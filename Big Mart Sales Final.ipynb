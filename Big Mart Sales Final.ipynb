{
 "cells": [
  {
   "cell_type": "markdown",
   "id": "c19240be",
   "metadata": {},
   "source": [
    "# Analytics Vidhya Hackathon - Big Mart Sales"
   ]
  },
  {
   "cell_type": "code",
   "execution_count": 183,
   "id": "9eb6177e",
   "metadata": {},
   "outputs": [],
   "source": [
    "# importing libraries \n",
    "import pandas as pd\n",
    "import numpy as np\n",
    "import matplotlib.pyplot as plt\n",
    "%matplotlib inline"
   ]
  },
  {
   "cell_type": "code",
   "execution_count": 184,
   "id": "ce12e45b",
   "metadata": {},
   "outputs": [],
   "source": [
    "# importing data \n",
    "bigmarttrain=pd.read_csv('train_v9rqX0R.csv')"
   ]
  },
  {
   "cell_type": "code",
   "execution_count": 185,
   "id": "73cd3bf8",
   "metadata": {},
   "outputs": [],
   "source": [
    "bigmarttest=pd.read_csv('test_AbJTz2l.csv')"
   ]
  },
  {
   "cell_type": "code",
   "execution_count": 186,
   "id": "6ace4035",
   "metadata": {},
   "outputs": [
    {
     "data": {
      "text/html": [
       "<div>\n",
       "<style scoped>\n",
       "    .dataframe tbody tr th:only-of-type {\n",
       "        vertical-align: middle;\n",
       "    }\n",
       "\n",
       "    .dataframe tbody tr th {\n",
       "        vertical-align: top;\n",
       "    }\n",
       "\n",
       "    .dataframe thead th {\n",
       "        text-align: right;\n",
       "    }\n",
       "</style>\n",
       "<table border=\"1\" class=\"dataframe\">\n",
       "  <thead>\n",
       "    <tr style=\"text-align: right;\">\n",
       "      <th></th>\n",
       "      <th>Item_Identifier</th>\n",
       "      <th>Item_Weight</th>\n",
       "      <th>Item_Fat_Content</th>\n",
       "      <th>Item_Visibility</th>\n",
       "      <th>Item_Type</th>\n",
       "      <th>Item_MRP</th>\n",
       "      <th>Outlet_Identifier</th>\n",
       "      <th>Outlet_Establishment_Year</th>\n",
       "      <th>Outlet_Size</th>\n",
       "      <th>Outlet_Location_Type</th>\n",
       "      <th>Outlet_Type</th>\n",
       "      <th>Item_Outlet_Sales</th>\n",
       "    </tr>\n",
       "  </thead>\n",
       "  <tbody>\n",
       "    <tr>\n",
       "      <th>0</th>\n",
       "      <td>FDA15</td>\n",
       "      <td>9.30</td>\n",
       "      <td>Low Fat</td>\n",
       "      <td>0.016047</td>\n",
       "      <td>Dairy</td>\n",
       "      <td>249.8092</td>\n",
       "      <td>OUT049</td>\n",
       "      <td>1999</td>\n",
       "      <td>Medium</td>\n",
       "      <td>Tier 1</td>\n",
       "      <td>Supermarket Type1</td>\n",
       "      <td>3735.1380</td>\n",
       "    </tr>\n",
       "    <tr>\n",
       "      <th>1</th>\n",
       "      <td>DRC01</td>\n",
       "      <td>5.92</td>\n",
       "      <td>Regular</td>\n",
       "      <td>0.019278</td>\n",
       "      <td>Soft Drinks</td>\n",
       "      <td>48.2692</td>\n",
       "      <td>OUT018</td>\n",
       "      <td>2009</td>\n",
       "      <td>Medium</td>\n",
       "      <td>Tier 3</td>\n",
       "      <td>Supermarket Type2</td>\n",
       "      <td>443.4228</td>\n",
       "    </tr>\n",
       "    <tr>\n",
       "      <th>2</th>\n",
       "      <td>FDN15</td>\n",
       "      <td>17.50</td>\n",
       "      <td>Low Fat</td>\n",
       "      <td>0.016760</td>\n",
       "      <td>Meat</td>\n",
       "      <td>141.6180</td>\n",
       "      <td>OUT049</td>\n",
       "      <td>1999</td>\n",
       "      <td>Medium</td>\n",
       "      <td>Tier 1</td>\n",
       "      <td>Supermarket Type1</td>\n",
       "      <td>2097.2700</td>\n",
       "    </tr>\n",
       "    <tr>\n",
       "      <th>3</th>\n",
       "      <td>FDX07</td>\n",
       "      <td>19.20</td>\n",
       "      <td>Regular</td>\n",
       "      <td>0.000000</td>\n",
       "      <td>Fruits and Vegetables</td>\n",
       "      <td>182.0950</td>\n",
       "      <td>OUT010</td>\n",
       "      <td>1998</td>\n",
       "      <td>NaN</td>\n",
       "      <td>Tier 3</td>\n",
       "      <td>Grocery Store</td>\n",
       "      <td>732.3800</td>\n",
       "    </tr>\n",
       "    <tr>\n",
       "      <th>4</th>\n",
       "      <td>NCD19</td>\n",
       "      <td>8.93</td>\n",
       "      <td>Low Fat</td>\n",
       "      <td>0.000000</td>\n",
       "      <td>Household</td>\n",
       "      <td>53.8614</td>\n",
       "      <td>OUT013</td>\n",
       "      <td>1987</td>\n",
       "      <td>High</td>\n",
       "      <td>Tier 3</td>\n",
       "      <td>Supermarket Type1</td>\n",
       "      <td>994.7052</td>\n",
       "    </tr>\n",
       "  </tbody>\n",
       "</table>\n",
       "</div>"
      ],
      "text/plain": [
       "  Item_Identifier  Item_Weight Item_Fat_Content  Item_Visibility  \\\n",
       "0           FDA15         9.30          Low Fat         0.016047   \n",
       "1           DRC01         5.92          Regular         0.019278   \n",
       "2           FDN15        17.50          Low Fat         0.016760   \n",
       "3           FDX07        19.20          Regular         0.000000   \n",
       "4           NCD19         8.93          Low Fat         0.000000   \n",
       "\n",
       "               Item_Type  Item_MRP Outlet_Identifier  \\\n",
       "0                  Dairy  249.8092            OUT049   \n",
       "1            Soft Drinks   48.2692            OUT018   \n",
       "2                   Meat  141.6180            OUT049   \n",
       "3  Fruits and Vegetables  182.0950            OUT010   \n",
       "4              Household   53.8614            OUT013   \n",
       "\n",
       "   Outlet_Establishment_Year Outlet_Size Outlet_Location_Type  \\\n",
       "0                       1999      Medium               Tier 1   \n",
       "1                       2009      Medium               Tier 3   \n",
       "2                       1999      Medium               Tier 1   \n",
       "3                       1998         NaN               Tier 3   \n",
       "4                       1987        High               Tier 3   \n",
       "\n",
       "         Outlet_Type  Item_Outlet_Sales  \n",
       "0  Supermarket Type1          3735.1380  \n",
       "1  Supermarket Type2           443.4228  \n",
       "2  Supermarket Type1          2097.2700  \n",
       "3      Grocery Store           732.3800  \n",
       "4  Supermarket Type1           994.7052  "
      ]
     },
     "execution_count": 186,
     "metadata": {},
     "output_type": "execute_result"
    }
   ],
   "source": [
    "bigmarttrain.head()"
   ]
  },
  {
   "cell_type": "code",
   "execution_count": 187,
   "id": "1a59e198",
   "metadata": {},
   "outputs": [
    {
     "data": {
      "text/html": [
       "<div>\n",
       "<style scoped>\n",
       "    .dataframe tbody tr th:only-of-type {\n",
       "        vertical-align: middle;\n",
       "    }\n",
       "\n",
       "    .dataframe tbody tr th {\n",
       "        vertical-align: top;\n",
       "    }\n",
       "\n",
       "    .dataframe thead th {\n",
       "        text-align: right;\n",
       "    }\n",
       "</style>\n",
       "<table border=\"1\" class=\"dataframe\">\n",
       "  <thead>\n",
       "    <tr style=\"text-align: right;\">\n",
       "      <th></th>\n",
       "      <th>Item_Identifier</th>\n",
       "      <th>Item_Weight</th>\n",
       "      <th>Item_Fat_Content</th>\n",
       "      <th>Item_Visibility</th>\n",
       "      <th>Item_Type</th>\n",
       "      <th>Item_MRP</th>\n",
       "      <th>Outlet_Identifier</th>\n",
       "      <th>Outlet_Establishment_Year</th>\n",
       "      <th>Outlet_Size</th>\n",
       "      <th>Outlet_Location_Type</th>\n",
       "      <th>Outlet_Type</th>\n",
       "    </tr>\n",
       "  </thead>\n",
       "  <tbody>\n",
       "    <tr>\n",
       "      <th>0</th>\n",
       "      <td>FDW58</td>\n",
       "      <td>20.750</td>\n",
       "      <td>Low Fat</td>\n",
       "      <td>0.007565</td>\n",
       "      <td>Snack Foods</td>\n",
       "      <td>107.8622</td>\n",
       "      <td>OUT049</td>\n",
       "      <td>1999</td>\n",
       "      <td>Medium</td>\n",
       "      <td>Tier 1</td>\n",
       "      <td>Supermarket Type1</td>\n",
       "    </tr>\n",
       "    <tr>\n",
       "      <th>1</th>\n",
       "      <td>FDW14</td>\n",
       "      <td>8.300</td>\n",
       "      <td>reg</td>\n",
       "      <td>0.038428</td>\n",
       "      <td>Dairy</td>\n",
       "      <td>87.3198</td>\n",
       "      <td>OUT017</td>\n",
       "      <td>2007</td>\n",
       "      <td>NaN</td>\n",
       "      <td>Tier 2</td>\n",
       "      <td>Supermarket Type1</td>\n",
       "    </tr>\n",
       "    <tr>\n",
       "      <th>2</th>\n",
       "      <td>NCN55</td>\n",
       "      <td>14.600</td>\n",
       "      <td>Low Fat</td>\n",
       "      <td>0.099575</td>\n",
       "      <td>Others</td>\n",
       "      <td>241.7538</td>\n",
       "      <td>OUT010</td>\n",
       "      <td>1998</td>\n",
       "      <td>NaN</td>\n",
       "      <td>Tier 3</td>\n",
       "      <td>Grocery Store</td>\n",
       "    </tr>\n",
       "    <tr>\n",
       "      <th>3</th>\n",
       "      <td>FDQ58</td>\n",
       "      <td>7.315</td>\n",
       "      <td>Low Fat</td>\n",
       "      <td>0.015388</td>\n",
       "      <td>Snack Foods</td>\n",
       "      <td>155.0340</td>\n",
       "      <td>OUT017</td>\n",
       "      <td>2007</td>\n",
       "      <td>NaN</td>\n",
       "      <td>Tier 2</td>\n",
       "      <td>Supermarket Type1</td>\n",
       "    </tr>\n",
       "    <tr>\n",
       "      <th>4</th>\n",
       "      <td>FDY38</td>\n",
       "      <td>NaN</td>\n",
       "      <td>Regular</td>\n",
       "      <td>0.118599</td>\n",
       "      <td>Dairy</td>\n",
       "      <td>234.2300</td>\n",
       "      <td>OUT027</td>\n",
       "      <td>1985</td>\n",
       "      <td>Medium</td>\n",
       "      <td>Tier 3</td>\n",
       "      <td>Supermarket Type3</td>\n",
       "    </tr>\n",
       "  </tbody>\n",
       "</table>\n",
       "</div>"
      ],
      "text/plain": [
       "  Item_Identifier  Item_Weight Item_Fat_Content  Item_Visibility    Item_Type  \\\n",
       "0           FDW58       20.750          Low Fat         0.007565  Snack Foods   \n",
       "1           FDW14        8.300              reg         0.038428        Dairy   \n",
       "2           NCN55       14.600          Low Fat         0.099575       Others   \n",
       "3           FDQ58        7.315          Low Fat         0.015388  Snack Foods   \n",
       "4           FDY38          NaN          Regular         0.118599        Dairy   \n",
       "\n",
       "   Item_MRP Outlet_Identifier  Outlet_Establishment_Year Outlet_Size  \\\n",
       "0  107.8622            OUT049                       1999      Medium   \n",
       "1   87.3198            OUT017                       2007         NaN   \n",
       "2  241.7538            OUT010                       1998         NaN   \n",
       "3  155.0340            OUT017                       2007         NaN   \n",
       "4  234.2300            OUT027                       1985      Medium   \n",
       "\n",
       "  Outlet_Location_Type        Outlet_Type  \n",
       "0               Tier 1  Supermarket Type1  \n",
       "1               Tier 2  Supermarket Type1  \n",
       "2               Tier 3      Grocery Store  \n",
       "3               Tier 2  Supermarket Type1  \n",
       "4               Tier 3  Supermarket Type3  "
      ]
     },
     "execution_count": 187,
     "metadata": {},
     "output_type": "execute_result"
    }
   ],
   "source": [
    "bigmarttest.head()"
   ]
  },
  {
   "cell_type": "code",
   "execution_count": 188,
   "id": "1bba6e72",
   "metadata": {},
   "outputs": [
    {
     "data": {
      "text/plain": [
       "(8523, 12)"
      ]
     },
     "execution_count": 188,
     "metadata": {},
     "output_type": "execute_result"
    }
   ],
   "source": [
    "bigmarttrain.shape"
   ]
  },
  {
   "cell_type": "code",
   "execution_count": 189,
   "id": "998e29b2",
   "metadata": {},
   "outputs": [
    {
     "data": {
      "text/plain": [
       "(5681, 11)"
      ]
     },
     "execution_count": 189,
     "metadata": {},
     "output_type": "execute_result"
    }
   ],
   "source": [
    "bigmarttest.shape"
   ]
  },
  {
   "cell_type": "code",
   "execution_count": 190,
   "id": "38ded940",
   "metadata": {},
   "outputs": [
    {
     "data": {
      "text/html": [
       "<div>\n",
       "<style scoped>\n",
       "    .dataframe tbody tr th:only-of-type {\n",
       "        vertical-align: middle;\n",
       "    }\n",
       "\n",
       "    .dataframe tbody tr th {\n",
       "        vertical-align: top;\n",
       "    }\n",
       "\n",
       "    .dataframe thead th {\n",
       "        text-align: right;\n",
       "    }\n",
       "</style>\n",
       "<table border=\"1\" class=\"dataframe\">\n",
       "  <thead>\n",
       "    <tr style=\"text-align: right;\">\n",
       "      <th></th>\n",
       "      <th>Item_Identifier</th>\n",
       "      <th>Item_Weight</th>\n",
       "      <th>Item_Fat_Content</th>\n",
       "      <th>Item_Visibility</th>\n",
       "      <th>Item_Type</th>\n",
       "      <th>Item_MRP</th>\n",
       "      <th>Outlet_Identifier</th>\n",
       "      <th>Outlet_Establishment_Year</th>\n",
       "      <th>Outlet_Size</th>\n",
       "      <th>Outlet_Location_Type</th>\n",
       "      <th>Outlet_Type</th>\n",
       "      <th>Item_Outlet_Sales</th>\n",
       "    </tr>\n",
       "  </thead>\n",
       "  <tbody>\n",
       "    <tr>\n",
       "      <th>8518</th>\n",
       "      <td>FDF22</td>\n",
       "      <td>6.865</td>\n",
       "      <td>Low Fat</td>\n",
       "      <td>0.056783</td>\n",
       "      <td>Snack Foods</td>\n",
       "      <td>214.5218</td>\n",
       "      <td>OUT013</td>\n",
       "      <td>1987</td>\n",
       "      <td>High</td>\n",
       "      <td>Tier 3</td>\n",
       "      <td>Supermarket Type1</td>\n",
       "      <td>2778.3834</td>\n",
       "    </tr>\n",
       "    <tr>\n",
       "      <th>8519</th>\n",
       "      <td>FDS36</td>\n",
       "      <td>8.380</td>\n",
       "      <td>Regular</td>\n",
       "      <td>0.046982</td>\n",
       "      <td>Baking Goods</td>\n",
       "      <td>108.1570</td>\n",
       "      <td>OUT045</td>\n",
       "      <td>2002</td>\n",
       "      <td>NaN</td>\n",
       "      <td>Tier 2</td>\n",
       "      <td>Supermarket Type1</td>\n",
       "      <td>549.2850</td>\n",
       "    </tr>\n",
       "    <tr>\n",
       "      <th>8520</th>\n",
       "      <td>NCJ29</td>\n",
       "      <td>10.600</td>\n",
       "      <td>Low Fat</td>\n",
       "      <td>0.035186</td>\n",
       "      <td>Health and Hygiene</td>\n",
       "      <td>85.1224</td>\n",
       "      <td>OUT035</td>\n",
       "      <td>2004</td>\n",
       "      <td>Small</td>\n",
       "      <td>Tier 2</td>\n",
       "      <td>Supermarket Type1</td>\n",
       "      <td>1193.1136</td>\n",
       "    </tr>\n",
       "    <tr>\n",
       "      <th>8521</th>\n",
       "      <td>FDN46</td>\n",
       "      <td>7.210</td>\n",
       "      <td>Regular</td>\n",
       "      <td>0.145221</td>\n",
       "      <td>Snack Foods</td>\n",
       "      <td>103.1332</td>\n",
       "      <td>OUT018</td>\n",
       "      <td>2009</td>\n",
       "      <td>Medium</td>\n",
       "      <td>Tier 3</td>\n",
       "      <td>Supermarket Type2</td>\n",
       "      <td>1845.5976</td>\n",
       "    </tr>\n",
       "    <tr>\n",
       "      <th>8522</th>\n",
       "      <td>DRG01</td>\n",
       "      <td>14.800</td>\n",
       "      <td>Low Fat</td>\n",
       "      <td>0.044878</td>\n",
       "      <td>Soft Drinks</td>\n",
       "      <td>75.4670</td>\n",
       "      <td>OUT046</td>\n",
       "      <td>1997</td>\n",
       "      <td>Small</td>\n",
       "      <td>Tier 1</td>\n",
       "      <td>Supermarket Type1</td>\n",
       "      <td>765.6700</td>\n",
       "    </tr>\n",
       "  </tbody>\n",
       "</table>\n",
       "</div>"
      ],
      "text/plain": [
       "     Item_Identifier  Item_Weight Item_Fat_Content  Item_Visibility  \\\n",
       "8518           FDF22        6.865          Low Fat         0.056783   \n",
       "8519           FDS36        8.380          Regular         0.046982   \n",
       "8520           NCJ29       10.600          Low Fat         0.035186   \n",
       "8521           FDN46        7.210          Regular         0.145221   \n",
       "8522           DRG01       14.800          Low Fat         0.044878   \n",
       "\n",
       "               Item_Type  Item_MRP Outlet_Identifier  \\\n",
       "8518         Snack Foods  214.5218            OUT013   \n",
       "8519        Baking Goods  108.1570            OUT045   \n",
       "8520  Health and Hygiene   85.1224            OUT035   \n",
       "8521         Snack Foods  103.1332            OUT018   \n",
       "8522         Soft Drinks   75.4670            OUT046   \n",
       "\n",
       "      Outlet_Establishment_Year Outlet_Size Outlet_Location_Type  \\\n",
       "8518                       1987        High               Tier 3   \n",
       "8519                       2002         NaN               Tier 2   \n",
       "8520                       2004       Small               Tier 2   \n",
       "8521                       2009      Medium               Tier 3   \n",
       "8522                       1997       Small               Tier 1   \n",
       "\n",
       "            Outlet_Type  Item_Outlet_Sales  \n",
       "8518  Supermarket Type1          2778.3834  \n",
       "8519  Supermarket Type1           549.2850  \n",
       "8520  Supermarket Type1          1193.1136  \n",
       "8521  Supermarket Type2          1845.5976  \n",
       "8522  Supermarket Type1           765.6700  "
      ]
     },
     "execution_count": 190,
     "metadata": {},
     "output_type": "execute_result"
    }
   ],
   "source": [
    "bigmarttrain.tail()"
   ]
  },
  {
   "cell_type": "code",
   "execution_count": 191,
   "id": "cca8307a",
   "metadata": {},
   "outputs": [
    {
     "data": {
      "text/html": [
       "<div>\n",
       "<style scoped>\n",
       "    .dataframe tbody tr th:only-of-type {\n",
       "        vertical-align: middle;\n",
       "    }\n",
       "\n",
       "    .dataframe tbody tr th {\n",
       "        vertical-align: top;\n",
       "    }\n",
       "\n",
       "    .dataframe thead th {\n",
       "        text-align: right;\n",
       "    }\n",
       "</style>\n",
       "<table border=\"1\" class=\"dataframe\">\n",
       "  <thead>\n",
       "    <tr style=\"text-align: right;\">\n",
       "      <th></th>\n",
       "      <th>Item_Identifier</th>\n",
       "      <th>Item_Weight</th>\n",
       "      <th>Item_Fat_Content</th>\n",
       "      <th>Item_Visibility</th>\n",
       "      <th>Item_Type</th>\n",
       "      <th>Item_MRP</th>\n",
       "      <th>Outlet_Identifier</th>\n",
       "      <th>Outlet_Establishment_Year</th>\n",
       "      <th>Outlet_Size</th>\n",
       "      <th>Outlet_Location_Type</th>\n",
       "      <th>Outlet_Type</th>\n",
       "    </tr>\n",
       "  </thead>\n",
       "  <tbody>\n",
       "    <tr>\n",
       "      <th>5676</th>\n",
       "      <td>FDB58</td>\n",
       "      <td>10.5</td>\n",
       "      <td>Regular</td>\n",
       "      <td>0.013496</td>\n",
       "      <td>Snack Foods</td>\n",
       "      <td>141.3154</td>\n",
       "      <td>OUT046</td>\n",
       "      <td>1997</td>\n",
       "      <td>Small</td>\n",
       "      <td>Tier 1</td>\n",
       "      <td>Supermarket Type1</td>\n",
       "    </tr>\n",
       "    <tr>\n",
       "      <th>5677</th>\n",
       "      <td>FDD47</td>\n",
       "      <td>7.6</td>\n",
       "      <td>Regular</td>\n",
       "      <td>0.142991</td>\n",
       "      <td>Starchy Foods</td>\n",
       "      <td>169.1448</td>\n",
       "      <td>OUT018</td>\n",
       "      <td>2009</td>\n",
       "      <td>Medium</td>\n",
       "      <td>Tier 3</td>\n",
       "      <td>Supermarket Type2</td>\n",
       "    </tr>\n",
       "    <tr>\n",
       "      <th>5678</th>\n",
       "      <td>NCO17</td>\n",
       "      <td>10.0</td>\n",
       "      <td>Low Fat</td>\n",
       "      <td>0.073529</td>\n",
       "      <td>Health and Hygiene</td>\n",
       "      <td>118.7440</td>\n",
       "      <td>OUT045</td>\n",
       "      <td>2002</td>\n",
       "      <td>NaN</td>\n",
       "      <td>Tier 2</td>\n",
       "      <td>Supermarket Type1</td>\n",
       "    </tr>\n",
       "    <tr>\n",
       "      <th>5679</th>\n",
       "      <td>FDJ26</td>\n",
       "      <td>15.3</td>\n",
       "      <td>Regular</td>\n",
       "      <td>0.000000</td>\n",
       "      <td>Canned</td>\n",
       "      <td>214.6218</td>\n",
       "      <td>OUT017</td>\n",
       "      <td>2007</td>\n",
       "      <td>NaN</td>\n",
       "      <td>Tier 2</td>\n",
       "      <td>Supermarket Type1</td>\n",
       "    </tr>\n",
       "    <tr>\n",
       "      <th>5680</th>\n",
       "      <td>FDU37</td>\n",
       "      <td>9.5</td>\n",
       "      <td>Regular</td>\n",
       "      <td>0.104720</td>\n",
       "      <td>Canned</td>\n",
       "      <td>79.7960</td>\n",
       "      <td>OUT045</td>\n",
       "      <td>2002</td>\n",
       "      <td>NaN</td>\n",
       "      <td>Tier 2</td>\n",
       "      <td>Supermarket Type1</td>\n",
       "    </tr>\n",
       "  </tbody>\n",
       "</table>\n",
       "</div>"
      ],
      "text/plain": [
       "     Item_Identifier  Item_Weight Item_Fat_Content  Item_Visibility  \\\n",
       "5676           FDB58         10.5          Regular         0.013496   \n",
       "5677           FDD47          7.6          Regular         0.142991   \n",
       "5678           NCO17         10.0          Low Fat         0.073529   \n",
       "5679           FDJ26         15.3          Regular         0.000000   \n",
       "5680           FDU37          9.5          Regular         0.104720   \n",
       "\n",
       "               Item_Type  Item_MRP Outlet_Identifier  \\\n",
       "5676         Snack Foods  141.3154            OUT046   \n",
       "5677       Starchy Foods  169.1448            OUT018   \n",
       "5678  Health and Hygiene  118.7440            OUT045   \n",
       "5679              Canned  214.6218            OUT017   \n",
       "5680              Canned   79.7960            OUT045   \n",
       "\n",
       "      Outlet_Establishment_Year Outlet_Size Outlet_Location_Type  \\\n",
       "5676                       1997       Small               Tier 1   \n",
       "5677                       2009      Medium               Tier 3   \n",
       "5678                       2002         NaN               Tier 2   \n",
       "5679                       2007         NaN               Tier 2   \n",
       "5680                       2002         NaN               Tier 2   \n",
       "\n",
       "            Outlet_Type  \n",
       "5676  Supermarket Type1  \n",
       "5677  Supermarket Type2  \n",
       "5678  Supermarket Type1  \n",
       "5679  Supermarket Type1  \n",
       "5680  Supermarket Type1  "
      ]
     },
     "execution_count": 191,
     "metadata": {},
     "output_type": "execute_result"
    }
   ],
   "source": [
    "bigmarttest.tail()"
   ]
  },
  {
   "cell_type": "code",
   "execution_count": 192,
   "id": "c2881910",
   "metadata": {},
   "outputs": [
    {
     "data": {
      "text/plain": [
       "Item_Identifier               object\n",
       "Item_Weight                  float64\n",
       "Item_Fat_Content              object\n",
       "Item_Visibility              float64\n",
       "Item_Type                     object\n",
       "Item_MRP                     float64\n",
       "Outlet_Identifier             object\n",
       "Outlet_Establishment_Year      int64\n",
       "Outlet_Size                   object\n",
       "Outlet_Location_Type          object\n",
       "Outlet_Type                   object\n",
       "Item_Outlet_Sales            float64\n",
       "dtype: object"
      ]
     },
     "execution_count": 192,
     "metadata": {},
     "output_type": "execute_result"
    }
   ],
   "source": [
    "bigmarttrain.dtypes"
   ]
  },
  {
   "cell_type": "code",
   "execution_count": 193,
   "id": "47ae1813",
   "metadata": {},
   "outputs": [
    {
     "data": {
      "text/plain": [
       "Item_Identifier               object\n",
       "Item_Weight                  float64\n",
       "Item_Fat_Content              object\n",
       "Item_Visibility              float64\n",
       "Item_Type                     object\n",
       "Item_MRP                     float64\n",
       "Outlet_Identifier             object\n",
       "Outlet_Establishment_Year      int64\n",
       "Outlet_Size                   object\n",
       "Outlet_Location_Type          object\n",
       "Outlet_Type                   object\n",
       "dtype: object"
      ]
     },
     "execution_count": 193,
     "metadata": {},
     "output_type": "execute_result"
    }
   ],
   "source": [
    "bigmarttest.dtypes"
   ]
  },
  {
   "cell_type": "code",
   "execution_count": 194,
   "id": "786c014a",
   "metadata": {},
   "outputs": [
    {
     "data": {
      "text/plain": [
       "Index(['Item_Identifier', 'Item_Weight', 'Item_Fat_Content', 'Item_Visibility',\n",
       "       'Item_Type', 'Item_MRP', 'Outlet_Identifier',\n",
       "       'Outlet_Establishment_Year', 'Outlet_Size', 'Outlet_Location_Type',\n",
       "       'Outlet_Type', 'Item_Outlet_Sales'],\n",
       "      dtype='object')"
      ]
     },
     "execution_count": 194,
     "metadata": {},
     "output_type": "execute_result"
    }
   ],
   "source": [
    "bigmarttrain.columns"
   ]
  },
  {
   "cell_type": "code",
   "execution_count": 195,
   "id": "15b9ade1",
   "metadata": {},
   "outputs": [
    {
     "data": {
      "text/plain": [
       "Index(['Item_Identifier', 'Item_Weight', 'Item_Fat_Content', 'Item_Visibility',\n",
       "       'Item_Type', 'Item_MRP', 'Outlet_Identifier',\n",
       "       'Outlet_Establishment_Year', 'Outlet_Size', 'Outlet_Location_Type',\n",
       "       'Outlet_Type'],\n",
       "      dtype='object')"
      ]
     },
     "execution_count": 195,
     "metadata": {},
     "output_type": "execute_result"
    }
   ],
   "source": [
    "bigmarttest.columns"
   ]
  },
  {
   "cell_type": "code",
   "execution_count": 196,
   "id": "eaeb2260",
   "metadata": {},
   "outputs": [
    {
     "data": {
      "text/plain": [
       "Outlet_Size                  2410\n",
       "Item_Weight                  1463\n",
       "Item_Identifier                 0\n",
       "Item_Fat_Content                0\n",
       "Item_Visibility                 0\n",
       "Item_Type                       0\n",
       "Item_MRP                        0\n",
       "Outlet_Identifier               0\n",
       "Outlet_Establishment_Year       0\n",
       "Outlet_Location_Type            0\n",
       "Outlet_Type                     0\n",
       "Item_Outlet_Sales               0\n",
       "dtype: int64"
      ]
     },
     "execution_count": 196,
     "metadata": {},
     "output_type": "execute_result"
    }
   ],
   "source": [
    "# Data preprocessing  or feature engineering\n",
    "#identifying null values\n",
    "bigmarttrain.isnull().sum().sort_values(ascending=False)"
   ]
  },
  {
   "cell_type": "code",
   "execution_count": 197,
   "id": "4f8a9e47",
   "metadata": {},
   "outputs": [
    {
     "data": {
      "text/plain": [
       "Outlet_Size                  1606\n",
       "Item_Weight                   976\n",
       "Item_Identifier                 0\n",
       "Item_Fat_Content                0\n",
       "Item_Visibility                 0\n",
       "Item_Type                       0\n",
       "Item_MRP                        0\n",
       "Outlet_Identifier               0\n",
       "Outlet_Establishment_Year       0\n",
       "Outlet_Location_Type            0\n",
       "Outlet_Type                     0\n",
       "dtype: int64"
      ]
     },
     "execution_count": 197,
     "metadata": {},
     "output_type": "execute_result"
    }
   ],
   "source": [
    "bigmarttest.isnull().sum().sort_values(ascending=False)"
   ]
  },
  {
   "cell_type": "code",
   "execution_count": 198,
   "id": "080e7c14",
   "metadata": {},
   "outputs": [
    {
     "name": "stdout",
     "output_type": "stream",
     "text": [
      "<class 'pandas.core.frame.DataFrame'>\n",
      "RangeIndex: 5681 entries, 0 to 5680\n",
      "Data columns (total 11 columns):\n",
      " #   Column                     Non-Null Count  Dtype  \n",
      "---  ------                     --------------  -----  \n",
      " 0   Item_Identifier            5681 non-null   object \n",
      " 1   Item_Weight                4705 non-null   float64\n",
      " 2   Item_Fat_Content           5681 non-null   object \n",
      " 3   Item_Visibility            5681 non-null   float64\n",
      " 4   Item_Type                  5681 non-null   object \n",
      " 5   Item_MRP                   5681 non-null   float64\n",
      " 6   Outlet_Identifier          5681 non-null   object \n",
      " 7   Outlet_Establishment_Year  5681 non-null   int64  \n",
      " 8   Outlet_Size                4075 non-null   object \n",
      " 9   Outlet_Location_Type       5681 non-null   object \n",
      " 10  Outlet_Type                5681 non-null   object \n",
      "dtypes: float64(3), int64(1), object(7)\n",
      "memory usage: 488.3+ KB\n"
     ]
    }
   ],
   "source": [
    "bigmarttest.info()"
   ]
  },
  {
   "cell_type": "code",
   "execution_count": 199,
   "id": "2b023a36",
   "metadata": {},
   "outputs": [
    {
     "name": "stdout",
     "output_type": "stream",
     "text": [
      "<class 'pandas.core.frame.DataFrame'>\n",
      "RangeIndex: 8523 entries, 0 to 8522\n",
      "Data columns (total 12 columns):\n",
      " #   Column                     Non-Null Count  Dtype  \n",
      "---  ------                     --------------  -----  \n",
      " 0   Item_Identifier            8523 non-null   object \n",
      " 1   Item_Weight                7060 non-null   float64\n",
      " 2   Item_Fat_Content           8523 non-null   object \n",
      " 3   Item_Visibility            8523 non-null   float64\n",
      " 4   Item_Type                  8523 non-null   object \n",
      " 5   Item_MRP                   8523 non-null   float64\n",
      " 6   Outlet_Identifier          8523 non-null   object \n",
      " 7   Outlet_Establishment_Year  8523 non-null   int64  \n",
      " 8   Outlet_Size                6113 non-null   object \n",
      " 9   Outlet_Location_Type       8523 non-null   object \n",
      " 10  Outlet_Type                8523 non-null   object \n",
      " 11  Item_Outlet_Sales          8523 non-null   float64\n",
      "dtypes: float64(4), int64(1), object(7)\n",
      "memory usage: 799.2+ KB\n"
     ]
    }
   ],
   "source": [
    "bigmarttrain.info()"
   ]
  },
  {
   "cell_type": "code",
   "execution_count": 200,
   "id": "339a9564",
   "metadata": {},
   "outputs": [
    {
     "name": "stdout",
     "output_type": "stream",
     "text": [
      "(8523, 12)\n",
      "(5681, 11)\n"
     ]
    }
   ],
   "source": [
    "print(bigmarttrain.shape)\n",
    "print(bigmarttest.shape)"
   ]
  },
  {
   "cell_type": "code",
   "execution_count": 201,
   "id": "aed2169f",
   "metadata": {},
   "outputs": [],
   "source": [
    "# Adding dependent variable to test data for concatenation of dataframes with 'test' as value\n",
    "bigmarttest['Item_Outlet_Sales']='test'"
   ]
  },
  {
   "cell_type": "code",
   "execution_count": 202,
   "id": "8788b368",
   "metadata": {},
   "outputs": [],
   "source": [
    "# Row wise concatenation\n",
    "combinedf=pd.concat([bigmarttrain,bigmarttest],axis=0)"
   ]
  },
  {
   "cell_type": "code",
   "execution_count": 203,
   "id": "6c7d6715",
   "metadata": {},
   "outputs": [
    {
     "data": {
      "text/plain": [
       "(14204, 12)"
      ]
     },
     "execution_count": 203,
     "metadata": {},
     "output_type": "execute_result"
    }
   ],
   "source": [
    "combinedf.shape"
   ]
  },
  {
   "cell_type": "code",
   "execution_count": 204,
   "id": "18b04359",
   "metadata": {},
   "outputs": [
    {
     "data": {
      "text/plain": [
       "Medium    4655\n",
       "NaN       4016\n",
       "Small     3980\n",
       "High      1553\n",
       "Name: Outlet_Size, dtype: int64"
      ]
     },
     "execution_count": 204,
     "metadata": {},
     "output_type": "execute_result"
    }
   ],
   "source": [
    "combinedf.Outlet_Size.value_counts(dropna=False)"
   ]
  },
  {
   "cell_type": "markdown",
   "id": "bcace574",
   "metadata": {},
   "source": [
    "## Data Preprocessing Or Feature Engineering"
   ]
  },
  {
   "cell_type": "code",
   "execution_count": 205,
   "id": "70ea28b0",
   "metadata": {},
   "outputs": [],
   "source": [
    "#Filling null values of Outlet_Size as 'Missing'\n",
    "combinedf.Outlet_Size=combinedf.Outlet_Size.fillna(\"Missing\")"
   ]
  },
  {
   "cell_type": "code",
   "execution_count": 206,
   "id": "df8eb4ba",
   "metadata": {},
   "outputs": [
    {
     "data": {
      "text/plain": [
       "count    11765.000000\n",
       "mean        12.792854\n",
       "std          4.652502\n",
       "min          4.555000\n",
       "25%          8.710000\n",
       "50%         12.600000\n",
       "75%         16.750000\n",
       "max         21.350000\n",
       "Name: Item_Weight, dtype: float64"
      ]
     },
     "execution_count": 206,
     "metadata": {},
     "output_type": "execute_result"
    }
   ],
   "source": [
    "combinedf.Item_Weight.describe()"
   ]
  },
  {
   "cell_type": "code",
   "execution_count": 207,
   "id": "26604aad",
   "metadata": {},
   "outputs": [],
   "source": [
    "#Item_Weight is numerical column so we fill it with Mean Imputation\n",
    "combinedf.Item_Weight=combinedf.Item_Weight.fillna(combinedf.Item_Weight.mean()) # mean Imputation"
   ]
  },
  {
   "cell_type": "code",
   "execution_count": 208,
   "id": "cd807334",
   "metadata": {},
   "outputs": [
    {
     "data": {
      "text/plain": [
       "Item_Identifier              0\n",
       "Item_Weight                  0\n",
       "Item_Fat_Content             0\n",
       "Item_Visibility              0\n",
       "Item_Type                    0\n",
       "Item_MRP                     0\n",
       "Outlet_Identifier            0\n",
       "Outlet_Establishment_Year    0\n",
       "Outlet_Size                  0\n",
       "Outlet_Location_Type         0\n",
       "Outlet_Type                  0\n",
       "Item_Outlet_Sales            0\n",
       "dtype: int64"
      ]
     },
     "execution_count": 208,
     "metadata": {},
     "output_type": "execute_result"
    }
   ],
   "source": [
    "combinedf.isnull().sum()"
   ]
  },
  {
   "cell_type": "code",
   "execution_count": 209,
   "id": "06884155",
   "metadata": {},
   "outputs": [
    {
     "data": {
      "text/plain": [
       "(14204, 12)"
      ]
     },
     "execution_count": 209,
     "metadata": {},
     "output_type": "execute_result"
    }
   ],
   "source": [
    "combinedf.shape"
   ]
  },
  {
   "cell_type": "code",
   "execution_count": 210,
   "id": "3fe0dada",
   "metadata": {},
   "outputs": [
    {
     "data": {
      "text/plain": [
       "0    FDA15\n",
       "1    DRC01\n",
       "2    FDN15\n",
       "3    FDX07\n",
       "4    NCD19\n",
       "Name: Item_Identifier, dtype: object"
      ]
     },
     "execution_count": 210,
     "metadata": {},
     "output_type": "execute_result"
    }
   ],
   "source": [
    "combinedf.Item_Identifier.head()"
   ]
  },
  {
   "cell_type": "code",
   "execution_count": 211,
   "id": "67894be5",
   "metadata": {},
   "outputs": [],
   "source": [
    "#Creating a broad category of Item_Code from Item_Identifier\n",
    "combinedf['Item_Code']=combinedf.Item_Identifier.apply(lambda x:x[0:2])"
   ]
  },
  {
   "cell_type": "code",
   "execution_count": 212,
   "id": "82acf368",
   "metadata": {
    "scrolled": true
   },
   "outputs": [
    {
     "data": {
      "text/plain": [
       "FD    10201\n",
       "NC     2686\n",
       "DR     1317\n",
       "Name: Item_Code, dtype: int64"
      ]
     },
     "execution_count": 212,
     "metadata": {},
     "output_type": "execute_result"
    }
   ],
   "source": [
    "combinedf.Item_Code.value_counts()"
   ]
  },
  {
   "cell_type": "code",
   "execution_count": 213,
   "id": "9f7e5c95",
   "metadata": {},
   "outputs": [
    {
     "data": {
      "text/plain": [
       "Low Fat    8485\n",
       "Regular    4824\n",
       "LF          522\n",
       "reg         195\n",
       "low fat     178\n",
       "Name: Item_Fat_Content, dtype: int64"
      ]
     },
     "execution_count": 213,
     "metadata": {},
     "output_type": "execute_result"
    }
   ],
   "source": [
    "# Modifying categories of Item_Fat_Content\n",
    "combinedf.Item_Fat_Content.value_counts()"
   ]
  },
  {
   "cell_type": "code",
   "execution_count": 214,
   "id": "7a1de87b",
   "metadata": {},
   "outputs": [],
   "source": [
    "combinedf.Item_Fat_Content=combinedf.Item_Fat_Content.replace(['LF','low fat'],'Low Fat')"
   ]
  },
  {
   "cell_type": "code",
   "execution_count": 215,
   "id": "a14ca359",
   "metadata": {},
   "outputs": [],
   "source": [
    "combinedf.Item_Fat_Content=combinedf.Item_Fat_Content.replace('reg','Regular')"
   ]
  },
  {
   "cell_type": "code",
   "execution_count": 216,
   "id": "d9aa829b",
   "metadata": {},
   "outputs": [
    {
     "data": {
      "text/plain": [
       "Low Fat    9185\n",
       "Regular    5019\n",
       "Name: Item_Fat_Content, dtype: int64"
      ]
     },
     "execution_count": 216,
     "metadata": {},
     "output_type": "execute_result"
    }
   ],
   "source": [
    "combinedf.Item_Fat_Content.value_counts()"
   ]
  },
  {
   "cell_type": "code",
   "execution_count": 217,
   "id": "ad901223",
   "metadata": {},
   "outputs": [
    {
     "data": {
      "text/plain": [
       "count    14204.000000\n",
       "mean         0.065953\n",
       "std          0.051459\n",
       "min          0.000000\n",
       "25%          0.027036\n",
       "50%          0.054021\n",
       "75%          0.094037\n",
       "max          0.328391\n",
       "Name: Item_Visibility, dtype: float64"
      ]
     },
     "execution_count": 217,
     "metadata": {},
     "output_type": "execute_result"
    }
   ],
   "source": [
    "combinedf.Item_Visibility.describe()"
   ]
  },
  {
   "cell_type": "code",
   "execution_count": 218,
   "id": "2e624ac7",
   "metadata": {},
   "outputs": [
    {
     "data": {
      "text/plain": [
       "count    14204.000000\n",
       "mean       141.004977\n",
       "std         62.086938\n",
       "min         31.290000\n",
       "25%         94.012000\n",
       "50%        142.247000\n",
       "75%        185.855600\n",
       "max        266.888400\n",
       "Name: Item_MRP, dtype: float64"
      ]
     },
     "execution_count": 218,
     "metadata": {},
     "output_type": "execute_result"
    }
   ],
   "source": [
    "combinedf.Item_MRP.describe()"
   ]
  },
  {
   "cell_type": "code",
   "execution_count": 219,
   "id": "f7bbd94e",
   "metadata": {},
   "outputs": [
    {
     "data": {
      "text/plain": [
       "OUT027    1559\n",
       "OUT013    1553\n",
       "OUT049    1550\n",
       "OUT046    1550\n",
       "OUT035    1550\n",
       "OUT045    1548\n",
       "OUT018    1546\n",
       "OUT017    1543\n",
       "OUT010     925\n",
       "OUT019     880\n",
       "Name: Outlet_Identifier, dtype: int64"
      ]
     },
     "execution_count": 219,
     "metadata": {},
     "output_type": "execute_result"
    }
   ],
   "source": [
    "combinedf.Outlet_Identifier.value_counts()"
   ]
  },
  {
   "cell_type": "code",
   "execution_count": 220,
   "id": "02ef8ea0",
   "metadata": {},
   "outputs": [],
   "source": [
    "# Calculate Outlet_Age from Outlet_Establishment_Year as of 2021\n",
    "combinedf['Outlet_Age']=2021-combinedf.Outlet_Establishment_Year"
   ]
  },
  {
   "cell_type": "code",
   "execution_count": 221,
   "id": "9ee6d035",
   "metadata": {},
   "outputs": [
    {
     "data": {
      "text/plain": [
       "count    14204.000000\n",
       "mean        23.169319\n",
       "std          8.371664\n",
       "min         12.000000\n",
       "25%         17.000000\n",
       "50%         22.000000\n",
       "75%         34.000000\n",
       "max         36.000000\n",
       "Name: Outlet_Age, dtype: float64"
      ]
     },
     "execution_count": 221,
     "metadata": {},
     "output_type": "execute_result"
    }
   ],
   "source": [
    "combinedf.Outlet_Age.describe()"
   ]
  },
  {
   "cell_type": "code",
   "execution_count": 222,
   "id": "f0bd37a1",
   "metadata": {},
   "outputs": [
    {
     "data": {
      "text/plain": [
       "Tier 3    5583\n",
       "Tier 2    4641\n",
       "Tier 1    3980\n",
       "Name: Outlet_Location_Type, dtype: int64"
      ]
     },
     "execution_count": 222,
     "metadata": {},
     "output_type": "execute_result"
    }
   ],
   "source": [
    "combinedf.Outlet_Location_Type.value_counts()"
   ]
  },
  {
   "cell_type": "code",
   "execution_count": 223,
   "id": "cac5166e",
   "metadata": {},
   "outputs": [
    {
     "data": {
      "text/plain": [
       "Supermarket Type1    9294\n",
       "Grocery Store        1805\n",
       "Supermarket Type3    1559\n",
       "Supermarket Type2    1546\n",
       "Name: Outlet_Type, dtype: int64"
      ]
     },
     "execution_count": 223,
     "metadata": {},
     "output_type": "execute_result"
    }
   ],
   "source": [
    "combinedf.Outlet_Type.value_counts()"
   ]
  },
  {
   "cell_type": "code",
   "execution_count": 224,
   "id": "66d6c1d4",
   "metadata": {},
   "outputs": [
    {
     "data": {
      "text/plain": [
       "Item_Identifier               object\n",
       "Item_Weight                  float64\n",
       "Item_Fat_Content              object\n",
       "Item_Visibility              float64\n",
       "Item_Type                     object\n",
       "Item_MRP                     float64\n",
       "Outlet_Identifier             object\n",
       "Outlet_Establishment_Year      int64\n",
       "Outlet_Size                   object\n",
       "Outlet_Location_Type          object\n",
       "Outlet_Type                   object\n",
       "Item_Outlet_Sales             object\n",
       "Item_Code                     object\n",
       "Outlet_Age                     int64\n",
       "dtype: object"
      ]
     },
     "execution_count": 224,
     "metadata": {},
     "output_type": "execute_result"
    }
   ],
   "source": [
    "combinedf.dtypes"
   ]
  },
  {
   "cell_type": "code",
   "execution_count": 225,
   "id": "1c62b11d",
   "metadata": {},
   "outputs": [],
   "source": [
    "combinedf=combinedf.drop(['Item_Identifier','Outlet_Establishment_Year'],axis=1)"
   ]
  },
  {
   "cell_type": "code",
   "execution_count": 226,
   "id": "e6c3d2aa",
   "metadata": {},
   "outputs": [],
   "source": [
    "# Split Data into nuemric & object data\n",
    "numcols=combinedf.select_dtypes(include=np.number)\n",
    "objectcols=combinedf.select_dtypes(include=['object'])"
   ]
  },
  {
   "cell_type": "code",
   "execution_count": 227,
   "id": "6a558c6f",
   "metadata": {},
   "outputs": [
    {
     "name": "stdout",
     "output_type": "stream",
     "text": [
      "(14204, 4)\n",
      "(14204, 8)\n"
     ]
    }
   ],
   "source": [
    "print(numcols.shape)\n",
    "print(objectcols.shape)"
   ]
  },
  {
   "cell_type": "code",
   "execution_count": 228,
   "id": "02494e78",
   "metadata": {},
   "outputs": [
    {
     "name": "stdout",
     "output_type": "stream",
     "text": [
      "Index(['Item_Weight', 'Item_Visibility', 'Item_MRP', 'Outlet_Age'], dtype='object')\n",
      "Index(['Item_Fat_Content', 'Item_Type', 'Outlet_Identifier', 'Outlet_Size',\n",
      "       'Outlet_Location_Type', 'Outlet_Type', 'Item_Outlet_Sales',\n",
      "       'Item_Code'],\n",
      "      dtype='object')\n"
     ]
    }
   ],
   "source": [
    "print(numcols.columns)\n",
    "print(objectcols.columns)"
   ]
  },
  {
   "cell_type": "code",
   "execution_count": 229,
   "id": "ac1c98bf",
   "metadata": {},
   "outputs": [],
   "source": [
    "# Move Item_Outlet_Sales from object to Numeric. Since it contains\n",
    "# text values 'test' it is showing as object.\n",
    "numcols['Item_Outlet_Sales']=objectcols.Item_Outlet_Sales"
   ]
  },
  {
   "cell_type": "code",
   "execution_count": 230,
   "id": "bfdb34aa",
   "metadata": {},
   "outputs": [],
   "source": [
    "objectcols=objectcols.drop('Item_Outlet_Sales',axis=1)"
   ]
  },
  {
   "cell_type": "code",
   "execution_count": 231,
   "id": "a0cf8689",
   "metadata": {},
   "outputs": [],
   "source": [
    "#Coding all categorical variables as numeric using ‘LabelEncoder’ from sklearn’s preprocessing module.\n",
    "from sklearn.preprocessing import LabelEncoder"
   ]
  },
  {
   "cell_type": "code",
   "execution_count": 232,
   "id": "fcacb307",
   "metadata": {},
   "outputs": [],
   "source": [
    "le=LabelEncoder()"
   ]
  },
  {
   "cell_type": "code",
   "execution_count": 233,
   "id": "28a14cb7",
   "metadata": {},
   "outputs": [],
   "source": [
    "objectcolsencode=objectcols.apply(le.fit_transform)"
   ]
  },
  {
   "cell_type": "code",
   "execution_count": 234,
   "id": "a7772a42",
   "metadata": {},
   "outputs": [
    {
     "data": {
      "text/html": [
       "<div>\n",
       "<style scoped>\n",
       "    .dataframe tbody tr th:only-of-type {\n",
       "        vertical-align: middle;\n",
       "    }\n",
       "\n",
       "    .dataframe tbody tr th {\n",
       "        vertical-align: top;\n",
       "    }\n",
       "\n",
       "    .dataframe thead th {\n",
       "        text-align: right;\n",
       "    }\n",
       "</style>\n",
       "<table border=\"1\" class=\"dataframe\">\n",
       "  <thead>\n",
       "    <tr style=\"text-align: right;\">\n",
       "      <th></th>\n",
       "      <th>Item_Fat_Content</th>\n",
       "      <th>Item_Type</th>\n",
       "      <th>Outlet_Identifier</th>\n",
       "      <th>Outlet_Size</th>\n",
       "      <th>Outlet_Location_Type</th>\n",
       "      <th>Outlet_Type</th>\n",
       "      <th>Item_Code</th>\n",
       "    </tr>\n",
       "  </thead>\n",
       "  <tbody>\n",
       "    <tr>\n",
       "      <th>0</th>\n",
       "      <td>Low Fat</td>\n",
       "      <td>Dairy</td>\n",
       "      <td>OUT049</td>\n",
       "      <td>Medium</td>\n",
       "      <td>Tier 1</td>\n",
       "      <td>Supermarket Type1</td>\n",
       "      <td>FD</td>\n",
       "    </tr>\n",
       "    <tr>\n",
       "      <th>1</th>\n",
       "      <td>Regular</td>\n",
       "      <td>Soft Drinks</td>\n",
       "      <td>OUT018</td>\n",
       "      <td>Medium</td>\n",
       "      <td>Tier 3</td>\n",
       "      <td>Supermarket Type2</td>\n",
       "      <td>DR</td>\n",
       "    </tr>\n",
       "  </tbody>\n",
       "</table>\n",
       "</div>"
      ],
      "text/plain": [
       "  Item_Fat_Content    Item_Type Outlet_Identifier Outlet_Size  \\\n",
       "0          Low Fat        Dairy            OUT049      Medium   \n",
       "1          Regular  Soft Drinks            OUT018      Medium   \n",
       "\n",
       "  Outlet_Location_Type        Outlet_Type Item_Code  \n",
       "0               Tier 1  Supermarket Type1        FD  \n",
       "1               Tier 3  Supermarket Type2        DR  "
      ]
     },
     "execution_count": 234,
     "metadata": {},
     "output_type": "execute_result"
    }
   ],
   "source": [
    "objectcols.head(2)"
   ]
  },
  {
   "cell_type": "code",
   "execution_count": 235,
   "id": "aebb6eee",
   "metadata": {},
   "outputs": [
    {
     "data": {
      "text/html": [
       "<div>\n",
       "<style scoped>\n",
       "    .dataframe tbody tr th:only-of-type {\n",
       "        vertical-align: middle;\n",
       "    }\n",
       "\n",
       "    .dataframe tbody tr th {\n",
       "        vertical-align: top;\n",
       "    }\n",
       "\n",
       "    .dataframe thead th {\n",
       "        text-align: right;\n",
       "    }\n",
       "</style>\n",
       "<table border=\"1\" class=\"dataframe\">\n",
       "  <thead>\n",
       "    <tr style=\"text-align: right;\">\n",
       "      <th></th>\n",
       "      <th>Item_Fat_Content</th>\n",
       "      <th>Item_Type</th>\n",
       "      <th>Outlet_Identifier</th>\n",
       "      <th>Outlet_Size</th>\n",
       "      <th>Outlet_Location_Type</th>\n",
       "      <th>Outlet_Type</th>\n",
       "      <th>Item_Code</th>\n",
       "    </tr>\n",
       "  </thead>\n",
       "  <tbody>\n",
       "    <tr>\n",
       "      <th>0</th>\n",
       "      <td>0</td>\n",
       "      <td>4</td>\n",
       "      <td>9</td>\n",
       "      <td>1</td>\n",
       "      <td>0</td>\n",
       "      <td>1</td>\n",
       "      <td>1</td>\n",
       "    </tr>\n",
       "    <tr>\n",
       "      <th>1</th>\n",
       "      <td>1</td>\n",
       "      <td>14</td>\n",
       "      <td>3</td>\n",
       "      <td>1</td>\n",
       "      <td>2</td>\n",
       "      <td>2</td>\n",
       "      <td>0</td>\n",
       "    </tr>\n",
       "  </tbody>\n",
       "</table>\n",
       "</div>"
      ],
      "text/plain": [
       "   Item_Fat_Content  Item_Type  Outlet_Identifier  Outlet_Size  \\\n",
       "0                 0          4                  9            1   \n",
       "1                 1         14                  3            1   \n",
       "\n",
       "   Outlet_Location_Type  Outlet_Type  Item_Code  \n",
       "0                     0            1          1  \n",
       "1                     2            2          0  "
      ]
     },
     "execution_count": 235,
     "metadata": {},
     "output_type": "execute_result"
    }
   ],
   "source": [
    "objectcolsencode.head(2)"
   ]
  },
  {
   "cell_type": "code",
   "execution_count": 236,
   "id": "6e592080",
   "metadata": {},
   "outputs": [],
   "source": [
    "#Creating dummy variables one for each category of a categorical variable using ‘get_dummies’ function of Pandas.\n",
    "objectcolsdummy=pd.get_dummies(objectcols)"
   ]
  },
  {
   "cell_type": "code",
   "execution_count": 237,
   "id": "60dceb42",
   "metadata": {},
   "outputs": [
    {
     "data": {
      "text/html": [
       "<div>\n",
       "<style scoped>\n",
       "    .dataframe tbody tr th:only-of-type {\n",
       "        vertical-align: middle;\n",
       "    }\n",
       "\n",
       "    .dataframe tbody tr th {\n",
       "        vertical-align: top;\n",
       "    }\n",
       "\n",
       "    .dataframe thead th {\n",
       "        text-align: right;\n",
       "    }\n",
       "</style>\n",
       "<table border=\"1\" class=\"dataframe\">\n",
       "  <thead>\n",
       "    <tr style=\"text-align: right;\">\n",
       "      <th></th>\n",
       "      <th>Item_Fat_Content_Low Fat</th>\n",
       "      <th>Item_Fat_Content_Regular</th>\n",
       "      <th>Item_Type_Baking Goods</th>\n",
       "      <th>Item_Type_Breads</th>\n",
       "      <th>Item_Type_Breakfast</th>\n",
       "      <th>Item_Type_Canned</th>\n",
       "      <th>Item_Type_Dairy</th>\n",
       "      <th>Item_Type_Frozen Foods</th>\n",
       "      <th>Item_Type_Fruits and Vegetables</th>\n",
       "      <th>Item_Type_Hard Drinks</th>\n",
       "      <th>...</th>\n",
       "      <th>Outlet_Location_Type_Tier 1</th>\n",
       "      <th>Outlet_Location_Type_Tier 2</th>\n",
       "      <th>Outlet_Location_Type_Tier 3</th>\n",
       "      <th>Outlet_Type_Grocery Store</th>\n",
       "      <th>Outlet_Type_Supermarket Type1</th>\n",
       "      <th>Outlet_Type_Supermarket Type2</th>\n",
       "      <th>Outlet_Type_Supermarket Type3</th>\n",
       "      <th>Item_Code_DR</th>\n",
       "      <th>Item_Code_FD</th>\n",
       "      <th>Item_Code_NC</th>\n",
       "    </tr>\n",
       "  </thead>\n",
       "  <tbody>\n",
       "    <tr>\n",
       "      <th>0</th>\n",
       "      <td>1</td>\n",
       "      <td>0</td>\n",
       "      <td>0</td>\n",
       "      <td>0</td>\n",
       "      <td>0</td>\n",
       "      <td>0</td>\n",
       "      <td>1</td>\n",
       "      <td>0</td>\n",
       "      <td>0</td>\n",
       "      <td>0</td>\n",
       "      <td>...</td>\n",
       "      <td>1</td>\n",
       "      <td>0</td>\n",
       "      <td>0</td>\n",
       "      <td>0</td>\n",
       "      <td>1</td>\n",
       "      <td>0</td>\n",
       "      <td>0</td>\n",
       "      <td>0</td>\n",
       "      <td>1</td>\n",
       "      <td>0</td>\n",
       "    </tr>\n",
       "    <tr>\n",
       "      <th>1</th>\n",
       "      <td>0</td>\n",
       "      <td>1</td>\n",
       "      <td>0</td>\n",
       "      <td>0</td>\n",
       "      <td>0</td>\n",
       "      <td>0</td>\n",
       "      <td>0</td>\n",
       "      <td>0</td>\n",
       "      <td>0</td>\n",
       "      <td>0</td>\n",
       "      <td>...</td>\n",
       "      <td>0</td>\n",
       "      <td>0</td>\n",
       "      <td>1</td>\n",
       "      <td>0</td>\n",
       "      <td>0</td>\n",
       "      <td>1</td>\n",
       "      <td>0</td>\n",
       "      <td>1</td>\n",
       "      <td>0</td>\n",
       "      <td>0</td>\n",
       "    </tr>\n",
       "    <tr>\n",
       "      <th>2</th>\n",
       "      <td>1</td>\n",
       "      <td>0</td>\n",
       "      <td>0</td>\n",
       "      <td>0</td>\n",
       "      <td>0</td>\n",
       "      <td>0</td>\n",
       "      <td>0</td>\n",
       "      <td>0</td>\n",
       "      <td>0</td>\n",
       "      <td>0</td>\n",
       "      <td>...</td>\n",
       "      <td>1</td>\n",
       "      <td>0</td>\n",
       "      <td>0</td>\n",
       "      <td>0</td>\n",
       "      <td>1</td>\n",
       "      <td>0</td>\n",
       "      <td>0</td>\n",
       "      <td>0</td>\n",
       "      <td>1</td>\n",
       "      <td>0</td>\n",
       "    </tr>\n",
       "    <tr>\n",
       "      <th>3</th>\n",
       "      <td>0</td>\n",
       "      <td>1</td>\n",
       "      <td>0</td>\n",
       "      <td>0</td>\n",
       "      <td>0</td>\n",
       "      <td>0</td>\n",
       "      <td>0</td>\n",
       "      <td>0</td>\n",
       "      <td>1</td>\n",
       "      <td>0</td>\n",
       "      <td>...</td>\n",
       "      <td>0</td>\n",
       "      <td>0</td>\n",
       "      <td>1</td>\n",
       "      <td>1</td>\n",
       "      <td>0</td>\n",
       "      <td>0</td>\n",
       "      <td>0</td>\n",
       "      <td>0</td>\n",
       "      <td>1</td>\n",
       "      <td>0</td>\n",
       "    </tr>\n",
       "    <tr>\n",
       "      <th>4</th>\n",
       "      <td>1</td>\n",
       "      <td>0</td>\n",
       "      <td>0</td>\n",
       "      <td>0</td>\n",
       "      <td>0</td>\n",
       "      <td>0</td>\n",
       "      <td>0</td>\n",
       "      <td>0</td>\n",
       "      <td>0</td>\n",
       "      <td>0</td>\n",
       "      <td>...</td>\n",
       "      <td>0</td>\n",
       "      <td>0</td>\n",
       "      <td>1</td>\n",
       "      <td>0</td>\n",
       "      <td>1</td>\n",
       "      <td>0</td>\n",
       "      <td>0</td>\n",
       "      <td>0</td>\n",
       "      <td>0</td>\n",
       "      <td>1</td>\n",
       "    </tr>\n",
       "  </tbody>\n",
       "</table>\n",
       "<p>5 rows × 42 columns</p>\n",
       "</div>"
      ],
      "text/plain": [
       "   Item_Fat_Content_Low Fat  Item_Fat_Content_Regular  Item_Type_Baking Goods  \\\n",
       "0                         1                         0                       0   \n",
       "1                         0                         1                       0   \n",
       "2                         1                         0                       0   \n",
       "3                         0                         1                       0   \n",
       "4                         1                         0                       0   \n",
       "\n",
       "   Item_Type_Breads  Item_Type_Breakfast  Item_Type_Canned  Item_Type_Dairy  \\\n",
       "0                 0                    0                 0                1   \n",
       "1                 0                    0                 0                0   \n",
       "2                 0                    0                 0                0   \n",
       "3                 0                    0                 0                0   \n",
       "4                 0                    0                 0                0   \n",
       "\n",
       "   Item_Type_Frozen Foods  Item_Type_Fruits and Vegetables  \\\n",
       "0                       0                                0   \n",
       "1                       0                                0   \n",
       "2                       0                                0   \n",
       "3                       0                                1   \n",
       "4                       0                                0   \n",
       "\n",
       "   Item_Type_Hard Drinks  ...  Outlet_Location_Type_Tier 1  \\\n",
       "0                      0  ...                            1   \n",
       "1                      0  ...                            0   \n",
       "2                      0  ...                            1   \n",
       "3                      0  ...                            0   \n",
       "4                      0  ...                            0   \n",
       "\n",
       "   Outlet_Location_Type_Tier 2  Outlet_Location_Type_Tier 3  \\\n",
       "0                            0                            0   \n",
       "1                            0                            1   \n",
       "2                            0                            0   \n",
       "3                            0                            1   \n",
       "4                            0                            1   \n",
       "\n",
       "   Outlet_Type_Grocery Store  Outlet_Type_Supermarket Type1  \\\n",
       "0                          0                              1   \n",
       "1                          0                              0   \n",
       "2                          0                              1   \n",
       "3                          1                              0   \n",
       "4                          0                              1   \n",
       "\n",
       "   Outlet_Type_Supermarket Type2  Outlet_Type_Supermarket Type3  Item_Code_DR  \\\n",
       "0                              0                              0             0   \n",
       "1                              1                              0             1   \n",
       "2                              0                              0             0   \n",
       "3                              0                              0             0   \n",
       "4                              0                              0             0   \n",
       "\n",
       "   Item_Code_FD  Item_Code_NC  \n",
       "0             1             0  \n",
       "1             0             0  \n",
       "2             1             0  \n",
       "3             1             0  \n",
       "4             0             1  \n",
       "\n",
       "[5 rows x 42 columns]"
      ]
     },
     "execution_count": 237,
     "metadata": {},
     "output_type": "execute_result"
    }
   ],
   "source": [
    "objectcolsdummy.head()"
   ]
  },
  {
   "cell_type": "code",
   "execution_count": 238,
   "id": "f942c548",
   "metadata": {},
   "outputs": [],
   "source": [
    "# Columnwise Concatenation\n",
    "combinedf_clean=pd.concat([numcols,objectcolsencode],axis=1)"
   ]
  },
  {
   "cell_type": "code",
   "execution_count": 239,
   "id": "5666a68d",
   "metadata": {},
   "outputs": [],
   "source": [
    "#converting data back into train and test data sets. \n",
    "bigmarttraindf=combinedf_clean[combinedf_clean.Item_Outlet_Sales!='test']\n",
    "bigmarttestdf=combinedf_clean[combinedf_clean.Item_Outlet_Sales=='test']"
   ]
  },
  {
   "cell_type": "code",
   "execution_count": 240,
   "id": "4d1b0ffc",
   "metadata": {},
   "outputs": [],
   "source": [
    "bigmarttestdf=bigmarttestdf.drop('Item_Outlet_Sales',axis=1)"
   ]
  },
  {
   "cell_type": "code",
   "execution_count": 241,
   "id": "4e9a124a",
   "metadata": {},
   "outputs": [
    {
     "data": {
      "text/plain": [
       "dtype('O')"
      ]
     },
     "execution_count": 241,
     "metadata": {},
     "output_type": "execute_result"
    }
   ],
   "source": [
    "bigmarttraindf.Item_Outlet_Sales.dtypes"
   ]
  },
  {
   "cell_type": "code",
   "execution_count": 242,
   "id": "863bd428",
   "metadata": {},
   "outputs": [
    {
     "name": "stderr",
     "output_type": "stream",
     "text": [
      "C:\\Users\\ashis\\AppData\\Local\\Temp\\ipykernel_12964\\4289284348.py:1: SettingWithCopyWarning: \n",
      "A value is trying to be set on a copy of a slice from a DataFrame.\n",
      "Try using .loc[row_indexer,col_indexer] = value instead\n",
      "\n",
      "See the caveats in the documentation: https://pandas.pydata.org/pandas-docs/stable/user_guide/indexing.html#returning-a-view-versus-a-copy\n",
      "  bigmarttraindf.Item_Outlet_Sales=bigmarttraindf.Item_Outlet_Sales.astype('float64')\n"
     ]
    }
   ],
   "source": [
    "bigmarttraindf.Item_Outlet_Sales=bigmarttraindf.Item_Outlet_Sales.astype('float64')"
   ]
  },
  {
   "cell_type": "code",
   "execution_count": 243,
   "id": "85b1f63a",
   "metadata": {},
   "outputs": [
    {
     "data": {
      "text/plain": [
       "<AxesSubplot:ylabel='Frequency'>"
      ]
     },
     "execution_count": 243,
     "metadata": {},
     "output_type": "execute_result"
    },
    {
     "data": {
      "image/png": "[encoded data removed]",
      "text/plain": [
       "<Figure size 432x288 with 1 Axes>"
      ]
     },
     "metadata": {
      "needs_background": "light"
     },
     "output_type": "display_data"
    }
   ],
   "source": [
    "# Createing Histogram, Boxplot and Density Curve of Item_Outlet_Sales\n",
    "bigmarttraindf.Item_Outlet_Sales.plot(kind='hist')"
   ]
  },
  {
   "cell_type": "code",
   "execution_count": 244,
   "id": "26e6500d",
   "metadata": {},
   "outputs": [
    {
     "data": {
      "text/plain": [
       "<AxesSubplot:>"
      ]
     },
     "execution_count": 244,
     "metadata": {},
     "output_type": "execute_result"
    },
    {
     "data": {
      "image/png": "[encoded data removed]",
      "text/plain": [
       "<Figure size 432x288 with 1 Axes>"
      ]
     },
     "metadata": {
      "needs_background": "light"
     },
     "output_type": "display_data"
    }
   ],
   "source": [
    "bigmarttraindf.Item_Outlet_Sales.plot(kind='box',vert=False)"
   ]
  },
  {
   "cell_type": "code",
   "execution_count": 245,
   "id": "3fa53cb0",
   "metadata": {},
   "outputs": [
    {
     "data": {
      "text/plain": [
       "<AxesSubplot:ylabel='Density'>"
      ]
     },
     "execution_count": 245,
     "metadata": {},
     "output_type": "execute_result"
    },
    {
     "data": {
      "image/png": "[encoded data removed]",
      "text/plain": [
       "<Figure size 432x288 with 1 Axes>"
      ]
     },
     "metadata": {
      "needs_background": "light"
     },
     "output_type": "display_data"
    }
   ],
   "source": [
    "bigmarttraindf.Item_Outlet_Sales.plot(kind='density')"
   ]
  },
  {
   "cell_type": "code",
   "execution_count": 246,
   "id": "76ccb0da",
   "metadata": {},
   "outputs": [
    {
     "data": {
      "text/plain": [
       "<AxesSubplot:>"
      ]
     },
     "execution_count": 246,
     "metadata": {},
     "output_type": "execute_result"
    },
    {
     "data": {
      "image/png": "[encoded data removed]",
      "text/plain": [
       "<Figure size 432x288 with 1 Axes>"
      ]
     },
     "metadata": {
      "needs_background": "light"
     },
     "output_type": "display_data"
    }
   ],
   "source": [
    "np.sqrt(bigmarttraindf.Item_Outlet_Sales).plot(kind='box',vert=False)"
   ]
  },
  {
   "cell_type": "markdown",
   "id": "97a08675",
   "metadata": {},
   "source": [
    "## Inferential Statistics - Hypothesis testing"
   ]
  },
  {
   "cell_type": "code",
   "execution_count": 247,
   "id": "6c099a1e",
   "metadata": {},
   "outputs": [
    {
     "data": {
      "text/plain": [
       "Item_Fat_Content\n",
       "0    2157.711534\n",
       "1    2224.561170\n",
       "Name: Item_Outlet_Sales, dtype: float64"
      ]
     },
     "execution_count": 247,
     "metadata": {},
     "output_type": "execute_result"
    }
   ],
   "source": [
    "# Average Item_Outlet_Sales of different Item_Fat_Content\n",
    "bigmarttraindf.Item_Outlet_Sales.groupby(bigmarttraindf.Item_Fat_Content).mean()"
   ]
  },
  {
   "cell_type": "code",
   "execution_count": 248,
   "id": "83bf0bef",
   "metadata": {},
   "outputs": [
    {
     "data": {
      "text/plain": [
       "Item_Fat_Content\n",
       "0    2.883115e+06\n",
       "1    2.963496e+06\n",
       "Name: Item_Outlet_Sales, dtype: float64"
      ]
     },
     "execution_count": 248,
     "metadata": {},
     "output_type": "execute_result"
    }
   ],
   "source": [
    "#Variance of Item_Outlet_Sales of different Item_Fat_Content\n",
    "bigmarttraindf.Item_Outlet_Sales.groupby(bigmarttraindf.Item_Fat_Content).var()"
   ]
  },
  {
   "cell_type": "code",
   "execution_count": 249,
   "id": "ceeb4506",
   "metadata": {},
   "outputs": [],
   "source": [
    "# One Numeric variable and other variable is categrocial with exactly 2 levels we conduct 2 Sample Independent t test\n",
    "from scipy.stats import ttest_ind"
   ]
  },
  {
   "cell_type": "code",
   "execution_count": 250,
   "id": "63acdc0e",
   "metadata": {},
   "outputs": [],
   "source": [
    "# Splitting Data into Lowfat and regular dataframes\n",
    "lowfat=bigmarttraindf[bigmarttraindf.Item_Fat_Content==0]\n",
    "regular=bigmarttraindf[bigmarttraindf.Item_Fat_Content==1]"
   ]
  },
  {
   "cell_type": "code",
   "execution_count": 251,
   "id": "fa365e2b",
   "metadata": {},
   "outputs": [
    {
     "data": {
      "text/plain": [
       "Ttest_indResult(statistic=-1.7212101304652165, pvalue=0.08526339464728244)"
      ]
     },
     "execution_count": 251,
     "metadata": {},
     "output_type": "execute_result"
    }
   ],
   "source": [
    "ttest_ind(lowfat.Item_Outlet_Sales,regular.Item_Outlet_Sales,equal_var=False)\n",
    "# Since pvalue=0.08526339464728244 is greater than 0.05, FAIL to \n",
    "# REJECT NULL. Difference in means(66.8) is statistically not\n",
    "# significant and it can be treated as non critical variable"
   ]
  },
  {
   "cell_type": "code",
   "execution_count": 252,
   "id": "5cabebac",
   "metadata": {},
   "outputs": [
    {
     "data": {
      "text/plain": [
       "Item_Fat_Content\n",
       "0    0.064330\n",
       "1    0.069439\n",
       "Name: Item_Visibility, dtype: float64"
      ]
     },
     "execution_count": 252,
     "metadata": {},
     "output_type": "execute_result"
    }
   ],
   "source": [
    "# To Test Null Average Item_Visibility for different Item_Fat_Content\n",
    "bigmarttraindf.Item_Visibility.groupby(bigmarttraindf.Item_Fat_Content).mean()"
   ]
  },
  {
   "cell_type": "code",
   "execution_count": 253,
   "id": "a05ea4c4",
   "metadata": {},
   "outputs": [
    {
     "data": {
      "text/plain": [
       "Item_Fat_Content\n",
       "0    0.002619\n",
       "1    0.002726\n",
       "Name: Item_Visibility, dtype: float64"
      ]
     },
     "execution_count": 253,
     "metadata": {},
     "output_type": "execute_result"
    }
   ],
   "source": [
    "bigmarttraindf.Item_Visibility.groupby(bigmarttraindf.Item_Fat_Content).var()"
   ]
  },
  {
   "cell_type": "code",
   "execution_count": 254,
   "id": "5bff9151",
   "metadata": {},
   "outputs": [],
   "source": [
    "# Null - There is no significance difference in Average Item_Visibility for differentItem_Fat_Content\n",
    "# Alt - There is significance difference in Average Item_Visibility for different Item_Fat_Content"
   ]
  },
  {
   "cell_type": "code",
   "execution_count": 255,
   "id": "d7127648",
   "metadata": {},
   "outputs": [
    {
     "data": {
      "text/plain": [
       "Ttest_indResult(statistic=-4.34668233685042, pvalue=1.404696156360228e-05)"
      ]
     },
     "execution_count": 255,
     "metadata": {},
     "output_type": "execute_result"
    }
   ],
   "source": [
    "ttest_ind(lowfat.Item_Visibility,regular.Item_Visibility,equal_var=False)\n",
    "#since p-value < 0.05 reject null hypothesis\n",
    "#Difference in means (0.005) is statistically significant and variable is critcal variable"
   ]
  },
  {
   "cell_type": "code",
   "execution_count": 256,
   "id": "f754ab71",
   "metadata": {},
   "outputs": [
    {
     "data": {
      "text/plain": [
       "0.0"
      ]
     },
     "execution_count": 256,
     "metadata": {},
     "output_type": "execute_result"
    }
   ],
   "source": [
    "np.round(1.404696156360228e-05,4)"
   ]
  },
  {
   "cell_type": "code",
   "execution_count": 257,
   "id": "32657385",
   "metadata": {},
   "outputs": [
    {
     "data": {
      "text/plain": [
       "Item_Fat_Content\n",
       "0    140.714098\n",
       "1    141.504259\n",
       "Name: Item_MRP, dtype: float64"
      ]
     },
     "execution_count": 257,
     "metadata": {},
     "output_type": "execute_result"
    }
   ],
   "source": [
    "# To test null average mrp of different item_fat_content are equal?\n",
    "bigmarttraindf.Item_MRP.groupby(bigmarttraindf.Item_Fat_Content).mean()"
   ]
  },
  {
   "cell_type": "code",
   "execution_count": 258,
   "id": "6f0593d2",
   "metadata": {},
   "outputs": [
    {
     "data": {
      "text/plain": [
       "Item_Fat_Content\n",
       "0    3882.754917\n",
       "1    3870.679626\n",
       "Name: Item_MRP, dtype: float64"
      ]
     },
     "execution_count": 258,
     "metadata": {},
     "output_type": "execute_result"
    }
   ],
   "source": [
    "bigmarttraindf.Item_MRP.groupby(bigmarttraindf.Item_Fat_Content).var()"
   ]
  },
  {
   "cell_type": "code",
   "execution_count": 259,
   "id": "9d5011ee",
   "metadata": {},
   "outputs": [],
   "source": [
    "# Null - There is no significance difference in Average Item_MRP for different Item_Fat_Content\n",
    "# Alt - There is significance difference in Average Item_MRP for different Item_Fat_Content"
   ]
  },
  {
   "cell_type": "code",
   "execution_count": 260,
   "id": "e92f6ce6",
   "metadata": {},
   "outputs": [
    {
     "data": {
      "text/plain": [
       "Ttest_indResult(statistic=-0.5599289442374681, pvalue=0.5755481942929463)"
      ]
     },
     "execution_count": 260,
     "metadata": {},
     "output_type": "execute_result"
    }
   ],
   "source": [
    "ttest_ind(lowfat.Item_MRP,regular.Item_MRP,equal_var=False)\n",
    "#p-value>0.05  failed to reject variable is not critical variable "
   ]
  },
  {
   "cell_type": "code",
   "execution_count": 261,
   "id": "219d6f20",
   "metadata": {},
   "outputs": [
    {
     "data": {
      "text/plain": [
       "Outlet_Type\n",
       "0     339.828500\n",
       "1    2316.181148\n",
       "2    1995.498739\n",
       "3    3694.038558\n",
       "Name: Item_Outlet_Sales, dtype: float64"
      ]
     },
     "execution_count": 261,
     "metadata": {},
     "output_type": "execute_result"
    }
   ],
   "source": [
    "# To test null average item_outlet_sales for different outlet_type is equal \n",
    "bigmarttraindf.Item_Outlet_Sales.groupby(bigmarttraindf.Outlet_Type).mean()"
   ]
  },
  {
   "cell_type": "code",
   "execution_count": 262,
   "id": "72e04b0f",
   "metadata": {},
   "outputs": [],
   "source": [
    "# Null - There is no significance difference in Average Item outlet sales for different outlet type\n",
    "# Alt - There is significance difference in Average Item outlet sales for different outlet type"
   ]
  },
  {
   "cell_type": "code",
   "execution_count": 263,
   "id": "e15f40aa",
   "metadata": {},
   "outputs": [],
   "source": [
    "gs=bigmarttraindf[bigmarttraindf.Outlet_Type==0]\n",
    "st1=bigmarttraindf[bigmarttraindf.Outlet_Type==1]\n",
    "st2=bigmarttraindf[bigmarttraindf.Outlet_Type==2]\n",
    "st3=bigmarttraindf[bigmarttraindf.Outlet_Type==3]"
   ]
  },
  {
   "cell_type": "code",
   "execution_count": 264,
   "id": "4b356fee",
   "metadata": {},
   "outputs": [],
   "source": [
    "# If one variable is numerical and other variable is categorical with more than 2 levels or classes - Anova Single Factor or \n",
    "# One Way Anova\n",
    "from scipy.stats import f_oneway"
   ]
  },
  {
   "cell_type": "code",
   "execution_count": 265,
   "id": "6d2a4a89",
   "metadata": {},
   "outputs": [
    {
     "data": {
      "text/plain": [
       "F_onewayResult(statistic=894.6500119018012, pvalue=0.0)"
      ]
     },
     "execution_count": 265,
     "metadata": {},
     "output_type": "execute_result"
    }
   ],
   "source": [
    "f_oneway(gs.Item_Outlet_Sales,st1.Item_Outlet_Sales,st2.Item_Outlet_Sales,st3.Item_Outlet_Sales)\n",
    "#pvalue<0.05 reject null difference in mean is statistically significant."
   ]
  },
  {
   "cell_type": "code",
   "execution_count": 266,
   "id": "f45461e6",
   "metadata": {},
   "outputs": [
    {
     "data": {
      "text/plain": [
       "Outlet_Type\n",
       "0    0.104862\n",
       "1    0.060723\n",
       "2    0.061014\n",
       "3    0.058615\n",
       "Name: Item_Visibility, dtype: float64"
      ]
     },
     "execution_count": 266,
     "metadata": {},
     "output_type": "execute_result"
    }
   ],
   "source": [
    "# Test Null Average Item_Visibility of different Outlet_Type are equal?\n",
    "bigmarttraindf.Item_Visibility.groupby(bigmarttraindf.Outlet_Type).mean()"
   ]
  },
  {
   "cell_type": "code",
   "execution_count": 267,
   "id": "015df884",
   "metadata": {},
   "outputs": [],
   "source": [
    "# Null - There is no significance difference in Average Item visibility for different outlet type\n",
    "# Alt - There is significance difference in Average Item visibility for different outlet type"
   ]
  },
  {
   "cell_type": "code",
   "execution_count": 268,
   "id": "42520e57",
   "metadata": {},
   "outputs": [
    {
     "data": {
      "text/plain": [
       "F_onewayResult(statistic=254.30677497171652, pvalue=4.5932234924663505e-158)"
      ]
     },
     "execution_count": 268,
     "metadata": {},
     "output_type": "execute_result"
    }
   ],
   "source": [
    "f_oneway(gs.Item_Visibility,st1.Item_Visibility,st2.Item_Visibility,st3.Item_Visibility)\n",
    "# p value<0.05 reject null. Difference in means is significant"
   ]
  },
  {
   "cell_type": "code",
   "execution_count": 269,
   "id": "0f600835",
   "metadata": {},
   "outputs": [
    {
     "data": {
      "text/plain": [
       "0.0"
      ]
     },
     "execution_count": 269,
     "metadata": {},
     "output_type": "execute_result"
    }
   ],
   "source": [
    "np.round(4.5932234924663505e-158,4)"
   ]
  },
  {
   "cell_type": "code",
   "execution_count": 270,
   "id": "e15da882",
   "metadata": {},
   "outputs": [
    {
     "data": {
      "text/html": [
       "<div>\n",
       "<style scoped>\n",
       "    .dataframe tbody tr th:only-of-type {\n",
       "        vertical-align: middle;\n",
       "    }\n",
       "\n",
       "    .dataframe tbody tr th {\n",
       "        vertical-align: top;\n",
       "    }\n",
       "\n",
       "    .dataframe thead th {\n",
       "        text-align: right;\n",
       "    }\n",
       "</style>\n",
       "<table border=\"1\" class=\"dataframe\">\n",
       "  <thead>\n",
       "    <tr style=\"text-align: right;\">\n",
       "      <th>Outlet_Size</th>\n",
       "      <th>0</th>\n",
       "      <th>1</th>\n",
       "      <th>2</th>\n",
       "      <th>3</th>\n",
       "    </tr>\n",
       "    <tr>\n",
       "      <th>Outlet_Type</th>\n",
       "      <th></th>\n",
       "      <th></th>\n",
       "      <th></th>\n",
       "      <th></th>\n",
       "    </tr>\n",
       "  </thead>\n",
       "  <tbody>\n",
       "    <tr>\n",
       "      <th>0</th>\n",
       "      <td>0</td>\n",
       "      <td>0</td>\n",
       "      <td>555</td>\n",
       "      <td>528</td>\n",
       "    </tr>\n",
       "    <tr>\n",
       "      <th>1</th>\n",
       "      <td>932</td>\n",
       "      <td>930</td>\n",
       "      <td>1855</td>\n",
       "      <td>1860</td>\n",
       "    </tr>\n",
       "    <tr>\n",
       "      <th>2</th>\n",
       "      <td>0</td>\n",
       "      <td>928</td>\n",
       "      <td>0</td>\n",
       "      <td>0</td>\n",
       "    </tr>\n",
       "    <tr>\n",
       "      <th>3</th>\n",
       "      <td>0</td>\n",
       "      <td>935</td>\n",
       "      <td>0</td>\n",
       "      <td>0</td>\n",
       "    </tr>\n",
       "  </tbody>\n",
       "</table>\n",
       "</div>"
      ],
      "text/plain": [
       "Outlet_Size    0    1     2     3\n",
       "Outlet_Type                      \n",
       "0              0    0   555   528\n",
       "1            932  930  1855  1860\n",
       "2              0  928     0     0\n",
       "3              0  935     0     0"
      ]
     },
     "execution_count": 270,
     "metadata": {},
     "output_type": "execute_result"
    }
   ],
   "source": [
    "# When Both Variables are non numeric and categorical - Chi Square Test of Independence\n",
    "pd.crosstab(bigmarttraindf.Outlet_Type,bigmarttraindf.Outlet_Size)"
   ]
  },
  {
   "cell_type": "code",
   "execution_count": 271,
   "id": "e7446b8a",
   "metadata": {},
   "outputs": [],
   "source": [
    "from scipy.stats import chi2_contingency"
   ]
  },
  {
   "cell_type": "code",
   "execution_count": 272,
   "id": "3cb6fbfb",
   "metadata": {},
   "outputs": [
    {
     "data": {
      "text/plain": [
       "(5380.286956123782,\n",
       " 0.0,\n",
       " 9,\n",
       " array([[ 118.42731433,  354.90073918,  306.23372052,  303.43822598],\n",
       "        [ 609.85146075, 1827.59134108, 1576.97641675, 1562.58078141],\n",
       "        [ 101.47788337,  304.10700458,  262.40525637,  260.00985568],\n",
       "        [ 102.24334155,  306.40091517,  264.38460636,  261.97113692]]))"
      ]
     },
     "execution_count": 272,
     "metadata": {},
     "output_type": "execute_result"
    }
   ],
   "source": [
    "chi2_contingency(pd.crosstab(bigmarttraindf.Outlet_Type,bigmarttraindf.Outlet_Size))\n",
    "# pvalue=0 <0.05 reject null"
   ]
  },
  {
   "cell_type": "code",
   "execution_count": 273,
   "id": "59e52e86",
   "metadata": {},
   "outputs": [
    {
     "data": {
      "text/html": [
       "<div>\n",
       "<style scoped>\n",
       "    .dataframe tbody tr th:only-of-type {\n",
       "        vertical-align: middle;\n",
       "    }\n",
       "\n",
       "    .dataframe tbody tr th {\n",
       "        vertical-align: top;\n",
       "    }\n",
       "\n",
       "    .dataframe thead th {\n",
       "        text-align: right;\n",
       "    }\n",
       "</style>\n",
       "<table border=\"1\" class=\"dataframe\">\n",
       "  <thead>\n",
       "    <tr style=\"text-align: right;\">\n",
       "      <th>Outlet_Type</th>\n",
       "      <th>0</th>\n",
       "      <th>1</th>\n",
       "      <th>2</th>\n",
       "      <th>3</th>\n",
       "    </tr>\n",
       "    <tr>\n",
       "      <th>Outlet_Location_Type</th>\n",
       "      <th></th>\n",
       "      <th></th>\n",
       "      <th></th>\n",
       "      <th></th>\n",
       "    </tr>\n",
       "  </thead>\n",
       "  <tbody>\n",
       "    <tr>\n",
       "      <th>0</th>\n",
       "      <td>528</td>\n",
       "      <td>1860</td>\n",
       "      <td>0</td>\n",
       "      <td>0</td>\n",
       "    </tr>\n",
       "    <tr>\n",
       "      <th>1</th>\n",
       "      <td>0</td>\n",
       "      <td>2785</td>\n",
       "      <td>0</td>\n",
       "      <td>0</td>\n",
       "    </tr>\n",
       "    <tr>\n",
       "      <th>2</th>\n",
       "      <td>555</td>\n",
       "      <td>932</td>\n",
       "      <td>928</td>\n",
       "      <td>935</td>\n",
       "    </tr>\n",
       "  </tbody>\n",
       "</table>\n",
       "</div>"
      ],
      "text/plain": [
       "Outlet_Type             0     1    2    3\n",
       "Outlet_Location_Type                     \n",
       "0                     528  1860    0    0\n",
       "1                       0  2785    0    0\n",
       "2                     555   932  928  935"
      ]
     },
     "execution_count": 273,
     "metadata": {},
     "output_type": "execute_result"
    }
   ],
   "source": [
    "# To test null there is no associaton or relationship between outlet type and outlet location type\n",
    "pd.crosstab(bigmarttraindf.Outlet_Location_Type,bigmarttraindf.Outlet_Type)"
   ]
  },
  {
   "cell_type": "code",
   "execution_count": 274,
   "id": "c2701576",
   "metadata": {},
   "outputs": [
    {
     "data": {
      "text/plain": [
       "(4725.606588766826,\n",
       " 0.0,\n",
       " 6,\n",
       " array([[ 303.43822598, 1562.58078141,  260.00985568,  261.97113692],\n",
       "        [ 353.88419571, 1822.35656459,  303.23594978,  305.52328992],\n",
       "        [ 425.67757832, 2192.062654  ,  364.75419453,  367.50557315]]))"
      ]
     },
     "execution_count": 274,
     "metadata": {},
     "output_type": "execute_result"
    }
   ],
   "source": [
    "chi2_contingency(pd.crosstab(bigmarttraindf.Outlet_Location_Type,bigmarttraindf.Outlet_Type))\n",
    "# pvalue=0 <0.05 reject null"
   ]
  },
  {
   "cell_type": "code",
   "execution_count": 275,
   "id": "d059ecbd",
   "metadata": {},
   "outputs": [
    {
     "data": {
      "text/plain": [
       "Index(['Item_Weight', 'Item_Visibility', 'Item_MRP', 'Outlet_Age',\n",
       "       'Item_Outlet_Sales', 'Item_Fat_Content', 'Item_Type',\n",
       "       'Outlet_Identifier', 'Outlet_Size', 'Outlet_Location_Type',\n",
       "       'Outlet_Type', 'Item_Code'],\n",
       "      dtype='object')"
      ]
     },
     "execution_count": 275,
     "metadata": {},
     "output_type": "execute_result"
    }
   ],
   "source": [
    "bigmarttraindf.columns"
   ]
  },
  {
   "cell_type": "code",
   "execution_count": 276,
   "id": "3692e02c",
   "metadata": {},
   "outputs": [
    {
     "data": {
      "text/html": [
       "<div>\n",
       "<style scoped>\n",
       "    .dataframe tbody tr th:only-of-type {\n",
       "        vertical-align: middle;\n",
       "    }\n",
       "\n",
       "    .dataframe tbody tr th {\n",
       "        vertical-align: top;\n",
       "    }\n",
       "\n",
       "    .dataframe thead th {\n",
       "        text-align: right;\n",
       "    }\n",
       "</style>\n",
       "<table border=\"1\" class=\"dataframe\">\n",
       "  <thead>\n",
       "    <tr style=\"text-align: right;\">\n",
       "      <th></th>\n",
       "      <th>Item_Weight</th>\n",
       "      <th>Item_Visibility</th>\n",
       "      <th>Item_MRP</th>\n",
       "      <th>Outlet_Age</th>\n",
       "      <th>Item_Outlet_Sales</th>\n",
       "    </tr>\n",
       "  </thead>\n",
       "  <tbody>\n",
       "    <tr>\n",
       "      <th>Item_Weight</th>\n",
       "      <td>1.000000</td>\n",
       "      <td>-0.012582</td>\n",
       "      <td>0.024806</td>\n",
       "      <td>0.004267</td>\n",
       "      <td>0.011083</td>\n",
       "    </tr>\n",
       "    <tr>\n",
       "      <th>Item_Visibility</th>\n",
       "      <td>-0.012582</td>\n",
       "      <td>1.000000</td>\n",
       "      <td>-0.001315</td>\n",
       "      <td>0.074834</td>\n",
       "      <td>-0.128625</td>\n",
       "    </tr>\n",
       "    <tr>\n",
       "      <th>Item_MRP</th>\n",
       "      <td>0.024806</td>\n",
       "      <td>-0.001315</td>\n",
       "      <td>1.000000</td>\n",
       "      <td>-0.005020</td>\n",
       "      <td>0.567574</td>\n",
       "    </tr>\n",
       "    <tr>\n",
       "      <th>Outlet_Age</th>\n",
       "      <td>0.004267</td>\n",
       "      <td>0.074834</td>\n",
       "      <td>-0.005020</td>\n",
       "      <td>1.000000</td>\n",
       "      <td>0.049135</td>\n",
       "    </tr>\n",
       "    <tr>\n",
       "      <th>Item_Outlet_Sales</th>\n",
       "      <td>0.011083</td>\n",
       "      <td>-0.128625</td>\n",
       "      <td>0.567574</td>\n",
       "      <td>0.049135</td>\n",
       "      <td>1.000000</td>\n",
       "    </tr>\n",
       "  </tbody>\n",
       "</table>\n",
       "</div>"
      ],
      "text/plain": [
       "                   Item_Weight  Item_Visibility  Item_MRP  Outlet_Age  \\\n",
       "Item_Weight           1.000000        -0.012582  0.024806    0.004267   \n",
       "Item_Visibility      -0.012582         1.000000 -0.001315    0.074834   \n",
       "Item_MRP              0.024806        -0.001315  1.000000   -0.005020   \n",
       "Outlet_Age            0.004267         0.074834 -0.005020    1.000000   \n",
       "Item_Outlet_Sales     0.011083        -0.128625  0.567574    0.049135   \n",
       "\n",
       "                   Item_Outlet_Sales  \n",
       "Item_Weight                 0.011083  \n",
       "Item_Visibility            -0.128625  \n",
       "Item_MRP                    0.567574  \n",
       "Outlet_Age                  0.049135  \n",
       "Item_Outlet_Sales           1.000000  "
      ]
     },
     "execution_count": 276,
     "metadata": {},
     "output_type": "execute_result"
    }
   ],
   "source": [
    "#correlation analysis must be done on numerical data\n",
    "bigmarttraindf[['Item_Weight', 'Item_Visibility', 'Item_MRP', 'Outlet_Age','Item_Outlet_Sales']].corr()"
   ]
  },
  {
   "cell_type": "markdown",
   "id": "54bf4f3e",
   "metadata": {},
   "source": [
    "## Model Building"
   ]
  },
  {
   "cell_type": "code",
   "execution_count": 277,
   "id": "d6d18353",
   "metadata": {},
   "outputs": [],
   "source": [
    "#split data into dependent variable (y) and independent variables(X)\n",
    "y=bigmarttraindf.Item_Outlet_Sales\n",
    "X=bigmarttraindf.drop('Item_Outlet_Sales',axis=1)"
   ]
  },
  {
   "cell_type": "markdown",
   "id": "adb2d3bb",
   "metadata": {},
   "source": [
    "### Linear Regression Model"
   ]
  },
  {
   "cell_type": "code",
   "execution_count": 278,
   "id": "809c0522",
   "metadata": {},
   "outputs": [],
   "source": [
    "from sklearn.linear_model import LinearRegression"
   ]
  },
  {
   "cell_type": "code",
   "execution_count": 279,
   "id": "66e31da1",
   "metadata": {},
   "outputs": [],
   "source": [
    "reg=LinearRegression()"
   ]
  },
  {
   "cell_type": "code",
   "execution_count": 280,
   "id": "f7e651b0",
   "metadata": {},
   "outputs": [],
   "source": [
    "regmodel=reg.fit(X,y)"
   ]
  },
  {
   "cell_type": "code",
   "execution_count": 281,
   "id": "cbaecd7e",
   "metadata": {},
   "outputs": [
    {
     "data": {
      "text/plain": [
       "0.5037944436324737"
      ]
     },
     "execution_count": 281,
     "metadata": {},
     "output_type": "execute_result"
    }
   ],
   "source": [
    "regmodel.score(X,y)\n",
    " # R Square indicates underfitting as R Square is below 0.60-0.95"
   ]
  },
  {
   "cell_type": "code",
   "execution_count": 282,
   "id": "adf1594c",
   "metadata": {},
   "outputs": [
    {
     "data": {
      "text/plain": [
       "-891.2813496170775"
      ]
     },
     "execution_count": 282,
     "metadata": {},
     "output_type": "execute_result"
    }
   ],
   "source": [
    "regmodel.intercept_"
   ]
  },
  {
   "cell_type": "code",
   "execution_count": 283,
   "id": "4f664e33",
   "metadata": {},
   "outputs": [
    {
     "name": "stdout",
     "output_type": "stream",
     "text": [
      "[('Item_Weight', -0.5610054430218548), ('Item_Visibility', -1627.9687502221295), ('Item_MRP', 15.577893892771652), ('Outlet_Age', 1.3154434455143946), ('Item_Fat_Content', 54.34917794025771), ('Item_Type', -0.9336925645715242), ('Outlet_Identifier', 56.47110399878302), ('Outlet_Size', -93.01982139301246), ('Outlet_Location_Type', -122.16153062331452), ('Outlet_Type', 831.4510956704765), ('Item_Code', -18.313384731987874)]\n"
     ]
    }
   ],
   "source": [
    "print(list(zip(X.columns,regmodel.coef_)))"
   ]
  },
  {
   "cell_type": "code",
   "execution_count": 284,
   "id": "85342a0e",
   "metadata": {},
   "outputs": [],
   "source": [
    "regpredict=regmodel.predict(X)"
   ]
  },
  {
   "cell_type": "code",
   "execution_count": 285,
   "id": "ee93a0a0",
   "metadata": {},
   "outputs": [],
   "source": [
    "regresidual=y-regpredict"
   ]
  },
  {
   "cell_type": "code",
   "execution_count": 286,
   "id": "5aa79fe0",
   "metadata": {},
   "outputs": [
    {
     "data": {
      "text/plain": [
       "1202.0195385103323"
      ]
     },
     "execution_count": 286,
     "metadata": {},
     "output_type": "execute_result"
    }
   ],
   "source": [
    "np.sqrt(np.mean(regresidual**2)) #RMSE"
   ]
  },
  {
   "cell_type": "code",
   "execution_count": 287,
   "id": "c704a93e",
   "metadata": {},
   "outputs": [],
   "source": [
    "bigmarttraindf.to_csv(\"bigmarttrain.csv\") # Export Dataframe as csv file"
   ]
  },
  {
   "cell_type": "code",
   "execution_count": 288,
   "id": "05a9e393",
   "metadata": {},
   "outputs": [],
   "source": [
    "X1=bigmarttraindf[['Item_Weight', 'Item_Visibility', 'Item_MRP', 'Outlet_Age']]"
   ]
  },
  {
   "cell_type": "code",
   "execution_count": 289,
   "id": "f43a0d7d",
   "metadata": {},
   "outputs": [],
   "source": [
    "regmodel1=reg.fit(X1,y)"
   ]
  },
  {
   "cell_type": "code",
   "execution_count": 290,
   "id": "ab49291b",
   "metadata": {},
   "outputs": [
    {
     "data": {
      "text/plain": [
       "0.34232817096822177"
      ]
     },
     "execution_count": 290,
     "metadata": {},
     "output_type": "execute_result"
    }
   ],
   "source": [
    "regmodel1.score(X1,y)"
   ]
  },
  {
   "cell_type": "code",
   "execution_count": 291,
   "id": "b78b0728",
   "metadata": {},
   "outputs": [
    {
     "data": {
      "text/plain": [
       "10.5289938809874"
      ]
     },
     "execution_count": 291,
     "metadata": {},
     "output_type": "execute_result"
    }
   ],
   "source": [
    "regmodel1.intercept_"
   ]
  },
  {
   "cell_type": "code",
   "execution_count": 292,
   "id": "8d4057b8",
   "metadata": {},
   "outputs": [
    {
     "name": "stdout",
     "output_type": "stream",
     "text": [
      "[('Item_Weight', -1.9925737112015698), ('Item_Visibility', -4384.643520888974), ('Item_MRP', 15.560119888190716), ('Outlet_Age', 12.623302096255067)]\n"
     ]
    }
   ],
   "source": [
    "print(list(zip(X1.columns,regmodel1.coef_)))"
   ]
  },
  {
   "cell_type": "code",
   "execution_count": 293,
   "id": "c4460bbd",
   "metadata": {},
   "outputs": [],
   "source": [
    "bigmartdummy=pd.concat([numcols,objectcolsdummy],axis=1)"
   ]
  },
  {
   "cell_type": "code",
   "execution_count": 294,
   "id": "96487433",
   "metadata": {},
   "outputs": [],
   "source": [
    "traindummy=bigmartdummy[bigmartdummy.Item_Outlet_Sales!='test']\n",
    "testdummy=bigmartdummy[bigmartdummy.Item_Outlet_Sales=='test']"
   ]
  },
  {
   "cell_type": "code",
   "execution_count": 295,
   "id": "2665a6d9",
   "metadata": {},
   "outputs": [],
   "source": [
    "testdummy=testdummy.drop('Item_Outlet_Sales',axis=1)"
   ]
  },
  {
   "cell_type": "code",
   "execution_count": 296,
   "id": "3156db11",
   "metadata": {},
   "outputs": [],
   "source": [
    "y1=traindummy.Item_Outlet_Sales\n",
    "Xdummy=traindummy.drop('Item_Outlet_Sales',axis=1)"
   ]
  },
  {
   "cell_type": "code",
   "execution_count": 297,
   "id": "04326fd6",
   "metadata": {},
   "outputs": [],
   "source": [
    "regdummy=reg.fit(Xdummy,y1)"
   ]
  },
  {
   "cell_type": "code",
   "execution_count": 298,
   "id": "abe1d640",
   "metadata": {},
   "outputs": [
    {
     "data": {
      "text/plain": [
       "0.5637737001510252"
      ]
     },
     "execution_count": 298,
     "metadata": {},
     "output_type": "execute_result"
    }
   ],
   "source": [
    "regdummy.score(Xdummy,y1)"
   ]
  },
  {
   "cell_type": "code",
   "execution_count": 299,
   "id": "35ab8d34",
   "metadata": {},
   "outputs": [
    {
     "data": {
      "text/plain": [
       "-577.2191691280427"
      ]
     },
     "execution_count": 299,
     "metadata": {},
     "output_type": "execute_result"
    }
   ],
   "source": [
    "regdummy.intercept_"
   ]
  },
  {
   "cell_type": "code",
   "execution_count": 300,
   "id": "9778afa3",
   "metadata": {},
   "outputs": [
    {
     "name": "stdout",
     "output_type": "stream",
     "text": [
      "[('Item_Weight', -0.5200273627391294), ('Item_Visibility', -300.0670763008745), ('Item_MRP', 15.570635789832728), ('Outlet_Age', 14.377971444644906), ('Item_Fat_Content_Low Fat', -21.05916619544836), ('Item_Fat_Content_Regular', 21.059166195453823), ('Item_Type_Baking Goods', -3.2104710018476177), ('Item_Type_Breads', 1.9250378206221155), ('Item_Type_Breakfast', 3.983965053681275), ('Item_Type_Canned', 22.271905888700907), ('Item_Type_Dairy', -53.00446586276437), ('Item_Type_Frozen Foods', -31.253550501580683), ('Item_Type_Fruits and Vegetables', 26.513725797522916), ('Item_Type_Hard Drinks', -47.26078009769465), ('Item_Type_Health and Hygiene', 4.423071407525385), ('Item_Type_Household', -24.342665740882946), ('Item_Type_Meat', -3.8580798577967785), ('Item_Type_Others', -6.538845577654703), ('Item_Type_Seafood', 181.66630948761346), ('Item_Type_Snack Foods', -14.608311286520529), ('Item_Type_Soft Drinks', -74.891600516715), ('Item_Type_Starchy Foods', 18.184754987789695), ('Outlet_Identifier_OUT010', -418.14497758830595), ('Outlet_Identifier_OUT013', -79.45027068333762), ('Outlet_Identifier_OUT017', 211.116720921981), ('Outlet_Identifier_OUT018', -92.80383702847578), ('Outlet_Identifier_OUT019', -473.4960041564077), ('Outlet_Identifier_OUT027', 598.1970268851643), ('Outlet_Identifier_OUT035', 64.6681501731861), ('Outlet_Identifier_OUT045', -35.02158928223826), ('Outlet_Identifier_OUT046', 309.64162957036973), ('Outlet_Identifier_OUT049', -84.70684881193279), ('Outlet_Size_High', -79.45027068333741), ('Outlet_Size_Medium', 420.6863410447518), ('Outlet_Size_Missing', -242.0498459485579), ('Outlet_Size_Small', -99.18622441285655), ('Outlet_Location_Type_Tier 1', -248.56122339797517), ('Outlet_Location_Type_Tier 2', 240.76328181293079), ('Outlet_Location_Type_Tier 3', 7.797941585048774), ('Outlet_Type_Grocery Store', -891.6409817447128), ('Outlet_Type_Supermarket Type1', 386.2477918880202), ('Outlet_Type_Supermarket Type2', -92.80383702847523), ('Outlet_Type_Supermarket Type3', 598.1970268851641), ('Item_Code_DR', 35.433509175984746), ('Item_Code_FD', -8.975069264964644), ('Item_Code_NC', -26.45843991100819)]\n"
     ]
    }
   ],
   "source": [
    "print(list(zip(Xdummy.columns,regdummy.coef_)))"
   ]
  },
  {
   "cell_type": "code",
   "execution_count": 301,
   "id": "bf0ff4e7",
   "metadata": {},
   "outputs": [],
   "source": [
    "regdummypredict=regdummy.predict(Xdummy)"
   ]
  },
  {
   "cell_type": "code",
   "execution_count": 302,
   "id": "6a419d2f",
   "metadata": {},
   "outputs": [],
   "source": [
    "regdummyresid=y1-regdummypredict"
   ]
  },
  {
   "cell_type": "code",
   "execution_count": 303,
   "id": "5cb228b0",
   "metadata": {},
   "outputs": [
    {
     "data": {
      "text/plain": [
       "1127.0330147429925"
      ]
     },
     "execution_count": 303,
     "metadata": {},
     "output_type": "execute_result"
    }
   ],
   "source": [
    "np.sqrt(np.mean(regdummyresid**2))"
   ]
  },
  {
   "cell_type": "code",
   "execution_count": null,
   "id": "7e9f0a73",
   "metadata": {},
   "outputs": [],
   "source": [
    "#score: 2448.5565"
   ]
  },
  {
   "cell_type": "markdown",
   "id": "dc2db22a",
   "metadata": {},
   "source": [
    "### Decision Tree Model"
   ]
  },
  {
   "cell_type": "code",
   "execution_count": 304,
   "id": "2cc5dd8f",
   "metadata": {},
   "outputs": [],
   "source": [
    "from sklearn.tree import DecisionTreeRegressor"
   ]
  },
  {
   "cell_type": "code",
   "execution_count": 305,
   "id": "4fcc3b57",
   "metadata": {},
   "outputs": [],
   "source": [
    "tree=DecisionTreeRegressor(max_depth=15)"
   ]
  },
  {
   "cell_type": "code",
   "execution_count": 306,
   "id": "b09615c9",
   "metadata": {},
   "outputs": [],
   "source": [
    "treemodel=tree.fit(X,y)"
   ]
  },
  {
   "cell_type": "code",
   "execution_count": 307,
   "id": "c0e62bed",
   "metadata": {},
   "outputs": [
    {
     "data": {
      "text/plain": [
       "0.6121883612629586"
      ]
     },
     "execution_count": 307,
     "metadata": {},
     "output_type": "execute_result"
    }
   ],
   "source": [
    "treemodel.score(X,y)\n",
    "# R^2 of 1 overfitting problem"
   ]
  },
  {
   "cell_type": "code",
   "execution_count": 308,
   "id": "ef7dfbcd",
   "metadata": {},
   "outputs": [],
   "source": [
    "from sklearn.model_selection import cross_val_score"
   ]
  },
  {
   "cell_type": "code",
   "execution_count": 309,
   "id": "d819541f",
   "metadata": {},
   "outputs": [
    {
     "data": {
      "text/plain": [
       "array([0.59517051, 0.57182208, 0.57209755, 0.60274528, 0.60063837])"
      ]
     },
     "execution_count": 309,
     "metadata": {},
     "output_type": "execute_result"
    }
   ],
   "source": [
    "cross_val_score(tree,X,y)   # repeated running of model 5 times(i.e 5 scores)"
   ]
  },
  {
   "cell_type": "code",
   "execution_count": 310,
   "id": "72344e87",
   "metadata": {},
   "outputs": [
    {
     "data": {
      "text/plain": [
       "0.588434392"
      ]
     },
     "execution_count": 310,
     "metadata": {},
     "output_type": "execute_result"
    }
   ],
   "source": [
    "np.mean([0.59517051, 0.57175009, 0.57200163, 0.60261136, 0.60063837])"
   ]
  },
  {
   "cell_type": "code",
   "execution_count": 311,
   "id": "70dc8528",
   "metadata": {},
   "outputs": [],
   "source": [
    "treepredict=treemodel.predict(bigmarttestdf)"
   ]
  },
  {
   "cell_type": "code",
   "execution_count": 312,
   "id": "ddc53007",
   "metadata": {},
   "outputs": [],
   "source": [
    "pd.DataFrame(treepredict).to_csv('treepredict.csv')"
   ]
  },
  {
   "cell_type": "code",
   "execution_count": null,
   "id": "fbd87448",
   "metadata": {},
   "outputs": [],
   "source": [
    "#score : 1163.8151"
   ]
  },
  {
   "cell_type": "markdown",
   "id": "88b3699c",
   "metadata": {},
   "source": [
    "### Random Forest Model"
   ]
  },
  {
   "cell_type": "code",
   "execution_count": 313,
   "id": "81cabc3a",
   "metadata": {},
   "outputs": [],
   "source": [
    "from sklearn.ensemble import RandomForestRegressor"
   ]
  },
  {
   "cell_type": "code",
   "execution_count": 333,
   "id": "7732b54b",
   "metadata": {},
   "outputs": [],
   "source": [
    "RF=RandomForestRegressor(n_estimators=200,max_depth=5,min_samples_leaf=100,n_jobs=4)"
   ]
  },
  {
   "cell_type": "code",
   "execution_count": 334,
   "id": "0c0ec21d",
   "metadata": {},
   "outputs": [],
   "source": [
    "RFmodel=RF.fit(X,y)"
   ]
  },
  {
   "cell_type": "code",
   "execution_count": 335,
   "id": "d34dbd08",
   "metadata": {},
   "outputs": [
    {
     "data": {
      "text/plain": [
       "0.6044685304623856"
      ]
     },
     "execution_count": 335,
     "metadata": {},
     "output_type": "execute_result"
    }
   ],
   "source": [
    "RFmodel.score(X,y)"
   ]
  },
  {
   "cell_type": "code",
   "execution_count": 336,
   "id": "2f97e901",
   "metadata": {},
   "outputs": [
    {
     "data": {
      "text/plain": [
       "array([0.60041681, 0.58421856, 0.56667139, 0.60601759, 0.60184543])"
      ]
     },
     "execution_count": 336,
     "metadata": {},
     "output_type": "execute_result"
    }
   ],
   "source": [
    "cross_val_score(RF,X,y)    # repeated running of model 5 times(i.e 5 scores)"
   ]
  },
  {
   "cell_type": "code",
   "execution_count": 337,
   "id": "75d83f00",
   "metadata": {},
   "outputs": [],
   "source": [
    "RFpredict=RFmodel.predict(bigmarttestdf)"
   ]
  },
  {
   "cell_type": "code",
   "execution_count": 339,
   "id": "09250617",
   "metadata": {},
   "outputs": [],
   "source": [
    "pd.DataFrame(RFpredict).to_csv(\"RF.csv\")"
   ]
  },
  {
   "cell_type": "code",
   "execution_count": null,
   "id": "3c4b2eef",
   "metadata": {},
   "outputs": [],
   "source": [
    "#score :  1154.2698"
   ]
  },
  {
   "cell_type": "markdown",
   "id": "66bd4138",
   "metadata": {},
   "source": [
    "### Gradient Boosting Model (GBM)"
   ]
  },
  {
   "cell_type": "code",
   "execution_count": 320,
   "id": "f1cfe8a6",
   "metadata": {},
   "outputs": [],
   "source": [
    "from sklearn.ensemble import GradientBoostingRegressor"
   ]
  },
  {
   "cell_type": "code",
   "execution_count": 321,
   "id": "9008c06c",
   "metadata": {},
   "outputs": [],
   "source": [
    "gbm=GradientBoostingRegressor(n_estimators=1000,max_depth=8)"
   ]
  },
  {
   "cell_type": "code",
   "execution_count": 322,
   "id": "5e5ab982",
   "metadata": {},
   "outputs": [],
   "source": [
    "gbmmodel=gbm.fit(X,y)"
   ]
  },
  {
   "cell_type": "code",
   "execution_count": 323,
   "id": "144fa12f",
   "metadata": {},
   "outputs": [
    {
     "data": {
      "text/plain": [
       "0.9949704461111496"
      ]
     },
     "execution_count": 323,
     "metadata": {},
     "output_type": "execute_result"
    }
   ],
   "source": [
    "gbmmodel.score(X,y)"
   ]
  },
  {
   "cell_type": "code",
   "execution_count": 324,
   "id": "66e78231",
   "metadata": {},
   "outputs": [],
   "source": [
    "gbmpredict=gbmmodel.predict(bigmarttestdf)"
   ]
  },
  {
   "cell_type": "code",
   "execution_count": 325,
   "id": "bc089833",
   "metadata": {},
   "outputs": [],
   "source": [
    "pd.DataFrame(gbmpredict).to_csv(\"gbm.csv\")"
   ]
  },
  {
   "cell_type": "code",
   "execution_count": 326,
   "id": "19ac5f99",
   "metadata": {},
   "outputs": [],
   "source": [
    "# Gradient Boosting - Negative Sales Values"
   ]
  },
  {
   "cell_type": "markdown",
   "id": "31c8f5b2",
   "metadata": {},
   "source": [
    "###  XGBoost"
   ]
  },
  {
   "cell_type": "code",
   "execution_count": 327,
   "id": "003a5e1d",
   "metadata": {},
   "outputs": [],
   "source": [
    "import xgboost as xgb"
   ]
  },
  {
   "cell_type": "code",
   "execution_count": 328,
   "id": "bb23ea24",
   "metadata": {},
   "outputs": [],
   "source": [
    "xgb_reg=xgb.XGBRegressor()"
   ]
  },
  {
   "cell_type": "code",
   "execution_count": 329,
   "id": "809d3b69",
   "metadata": {},
   "outputs": [
    {
     "name": "stderr",
     "output_type": "stream",
     "text": [
      "C:\\Users\\ashis\\anaconda3\\lib\\site-packages\\xgboost\\data.py:250: FutureWarning: pandas.Int64Index is deprecated and will be removed from pandas in a future version. Use pandas.Index with the appropriate dtype instead.\n",
      "  elif isinstance(data.columns, (pd.Int64Index, pd.RangeIndex)):\n"
     ]
    }
   ],
   "source": [
    "xgbmodel=xgb_reg.fit(X,y)"
   ]
  },
  {
   "cell_type": "code",
   "execution_count": 330,
   "id": "26ff575e",
   "metadata": {},
   "outputs": [
    {
     "data": {
      "text/plain": [
       "0.840557883153118"
      ]
     },
     "execution_count": 330,
     "metadata": {},
     "output_type": "execute_result"
    }
   ],
   "source": [
    "xgbmodel.score(X,y)"
   ]
  },
  {
   "cell_type": "code",
   "execution_count": 331,
   "id": "0f87b66c",
   "metadata": {},
   "outputs": [],
   "source": [
    "xgbpredict=xgbmodel.predict(bigmarttestdf)"
   ]
  },
  {
   "cell_type": "code",
   "execution_count": 332,
   "id": "d0ecd692",
   "metadata": {},
   "outputs": [],
   "source": [
    "pd.DataFrame(xgbpredict).to_csv(\"xgb.csv\")"
   ]
  },
  {
   "cell_type": "code",
   "execution_count": null,
   "id": "e86a29ed",
   "metadata": {},
   "outputs": [],
   "source": [
    "#score: Negative Sales Values"
   ]
  }
 ],
 "metadata": {
  "kernelspec": {
   "display_name": "Python 3 (ipykernel)",
   "language": "python",
   "name": "python3"
  },
  "language_info": {
   "codemirror_mode": {
    "name": "ipython",
    "version": 3
   },
   "file_extension": ".py",
   "mimetype": "text/x-python",
   "name": "python",
   "nbconvert_exporter": "python",
   "pygments_lexer": "ipython3",
   "version": "3.9.12"
  }
 },
 "nbformat": 4,
 "nbformat_minor": 5
}
